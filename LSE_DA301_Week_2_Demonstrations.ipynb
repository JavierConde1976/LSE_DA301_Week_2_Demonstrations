{
 "cells": [
  {
   "cell_type": "markdown",
   "id": "b9a3ec7a",
   "metadata": {},
   "source": [
    "### LSE Data Analytics Online Career Accelerator \n",
    "\n",
    "# DA301:  Advanced Analytics for Organisational Impact"
   ]
  },
  {
   "cell_type": "markdown",
   "id": "1dbdb90d",
   "metadata": {},
   "source": [
    "## Week 2: Predicting outcomes using classification and clustering"
   ]
  },
  {
   "cell_type": "markdown",
   "id": "a24170c4",
   "metadata": {},
   "source": [
    "This week we will continue to learn about more different types of machine learning algorithms (classification and clustering) used in predictive analytics. These algorithms are used to analyse business trends and patterns to obtain meaningful business insights. We will also learn about the available Python tools that enable analysts to automate these tasks. Python libraries such as Pandas, Matplotlib, and Seaborn, can provide the tools to help businesses predict trends and make decisions. \n",
    "\n",
    "In addition, we will learn how to use these Python tools to create and test classification models, which are useful for analysing categorical data such as product types and customer segments. We will then continue to build on our knowledge of regression analysis techniques by learning how to use binary logistical regression, multinomial logistical regression, and support vector machines.\n",
    "\n",
    "This is your Notebook. Use it to follow along with the demonstrations, test ideas and explore what is possible. The hands-on experience of writing your own code will accelarate your learning!\n",
    "\n",
    "For more tips: https://jupyter-notebook.readthedocs.io/en/latest/ui_components.html"
   ]
  },
  {
   "cell_type": "markdown",
   "id": "11cfebf7",
   "metadata": {},
   "source": [
    "### 2.1 Classification using Python"
   ]
  },
  {
   "cell_type": "markdown",
   "id": "d6ff828e",
   "metadata": {},
   "source": [
    "### 2.1.3 Worked example: Checking assumptions"
   ]
  },
  {
   "cell_type": "code",
   "execution_count": 1,
   "id": "8ffa1a09",
   "metadata": {},
   "outputs": [
    {
     "data": {
      "text/html": [
       "<div>\n",
       "<style scoped>\n",
       "    .dataframe tbody tr th:only-of-type {\n",
       "        vertical-align: middle;\n",
       "    }\n",
       "\n",
       "    .dataframe tbody tr th {\n",
       "        vertical-align: top;\n",
       "    }\n",
       "\n",
       "    .dataframe thead th {\n",
       "        text-align: right;\n",
       "    }\n",
       "</style>\n",
       "<table border=\"1\" class=\"dataframe\">\n",
       "  <thead>\n",
       "    <tr style=\"text-align: right;\">\n",
       "      <th></th>\n",
       "      <th>Age</th>\n",
       "      <th>Occupation</th>\n",
       "      <th>Status</th>\n",
       "      <th>Edu</th>\n",
       "      <th>House</th>\n",
       "      <th>Loan</th>\n",
       "      <th>Comm</th>\n",
       "      <th>Month</th>\n",
       "      <th>DOW</th>\n",
       "      <th>Duration</th>\n",
       "      <th>Campaign</th>\n",
       "      <th>PosDays</th>\n",
       "      <th>Last_out</th>\n",
       "      <th>Var_rate</th>\n",
       "      <th>Price_idx</th>\n",
       "      <th>Conf_idx</th>\n",
       "      <th>Month_rate</th>\n",
       "      <th>Quarterly_emp</th>\n",
       "      <th>Target</th>\n",
       "    </tr>\n",
       "  </thead>\n",
       "  <tbody>\n",
       "    <tr>\n",
       "      <th>0</th>\n",
       "      <td>44</td>\n",
       "      <td>blue-collar</td>\n",
       "      <td>married</td>\n",
       "      <td>basic.4y</td>\n",
       "      <td>yes</td>\n",
       "      <td>no</td>\n",
       "      <td>cellular</td>\n",
       "      <td>aug</td>\n",
       "      <td>thu</td>\n",
       "      <td>210</td>\n",
       "      <td>1</td>\n",
       "      <td>999</td>\n",
       "      <td>nonexistent</td>\n",
       "      <td>1.4</td>\n",
       "      <td>93.444</td>\n",
       "      <td>-36.1</td>\n",
       "      <td>4.963</td>\n",
       "      <td>5228.1</td>\n",
       "      <td>0</td>\n",
       "    </tr>\n",
       "    <tr>\n",
       "      <th>1</th>\n",
       "      <td>53</td>\n",
       "      <td>technician</td>\n",
       "      <td>married</td>\n",
       "      <td>unknown</td>\n",
       "      <td>no</td>\n",
       "      <td>no</td>\n",
       "      <td>cellular</td>\n",
       "      <td>nov</td>\n",
       "      <td>fri</td>\n",
       "      <td>138</td>\n",
       "      <td>1</td>\n",
       "      <td>999</td>\n",
       "      <td>nonexistent</td>\n",
       "      <td>-0.1</td>\n",
       "      <td>93.200</td>\n",
       "      <td>-42.0</td>\n",
       "      <td>4.021</td>\n",
       "      <td>5195.8</td>\n",
       "      <td>0</td>\n",
       "    </tr>\n",
       "    <tr>\n",
       "      <th>2</th>\n",
       "      <td>28</td>\n",
       "      <td>management</td>\n",
       "      <td>single</td>\n",
       "      <td>university.degree</td>\n",
       "      <td>yes</td>\n",
       "      <td>no</td>\n",
       "      <td>cellular</td>\n",
       "      <td>jun</td>\n",
       "      <td>thu</td>\n",
       "      <td>339</td>\n",
       "      <td>3</td>\n",
       "      <td>6</td>\n",
       "      <td>success</td>\n",
       "      <td>-1.7</td>\n",
       "      <td>94.055</td>\n",
       "      <td>-39.8</td>\n",
       "      <td>0.729</td>\n",
       "      <td>4991.6</td>\n",
       "      <td>1</td>\n",
       "    </tr>\n",
       "    <tr>\n",
       "      <th>3</th>\n",
       "      <td>39</td>\n",
       "      <td>services</td>\n",
       "      <td>married</td>\n",
       "      <td>high.school</td>\n",
       "      <td>no</td>\n",
       "      <td>no</td>\n",
       "      <td>cellular</td>\n",
       "      <td>apr</td>\n",
       "      <td>fri</td>\n",
       "      <td>185</td>\n",
       "      <td>2</td>\n",
       "      <td>999</td>\n",
       "      <td>nonexistent</td>\n",
       "      <td>-1.8</td>\n",
       "      <td>93.075</td>\n",
       "      <td>-47.1</td>\n",
       "      <td>1.405</td>\n",
       "      <td>5099.1</td>\n",
       "      <td>0</td>\n",
       "    </tr>\n",
       "    <tr>\n",
       "      <th>4</th>\n",
       "      <td>55</td>\n",
       "      <td>retired</td>\n",
       "      <td>married</td>\n",
       "      <td>basic.4y</td>\n",
       "      <td>yes</td>\n",
       "      <td>no</td>\n",
       "      <td>cellular</td>\n",
       "      <td>aug</td>\n",
       "      <td>fri</td>\n",
       "      <td>137</td>\n",
       "      <td>1</td>\n",
       "      <td>3</td>\n",
       "      <td>success</td>\n",
       "      <td>-2.9</td>\n",
       "      <td>92.201</td>\n",
       "      <td>-31.4</td>\n",
       "      <td>0.869</td>\n",
       "      <td>5076.2</td>\n",
       "      <td>1</td>\n",
       "    </tr>\n",
       "  </tbody>\n",
       "</table>\n",
       "</div>"
      ],
      "text/plain": [
       "   Age   Occupation   Status                Edu House Loan      Comm Month  \\\n",
       "0   44  blue-collar  married           basic.4y   yes   no  cellular   aug   \n",
       "1   53   technician  married            unknown    no   no  cellular   nov   \n",
       "2   28   management   single  university.degree   yes   no  cellular   jun   \n",
       "3   39     services  married        high.school    no   no  cellular   apr   \n",
       "4   55      retired  married           basic.4y   yes   no  cellular   aug   \n",
       "\n",
       "   DOW  Duration  Campaign  PosDays     Last_out  Var_rate  Price_idx  \\\n",
       "0  thu       210         1      999  nonexistent       1.4     93.444   \n",
       "1  fri       138         1      999  nonexistent      -0.1     93.200   \n",
       "2  thu       339         3        6      success      -1.7     94.055   \n",
       "3  fri       185         2      999  nonexistent      -1.8     93.075   \n",
       "4  fri       137         1        3      success      -2.9     92.201   \n",
       "\n",
       "   Conf_idx  Month_rate  Quarterly_emp  Target  \n",
       "0     -36.1       4.963         5228.1       0  \n",
       "1     -42.0       4.021         5195.8       0  \n",
       "2     -39.8       0.729         4991.6       1  \n",
       "3     -47.1       1.405         5099.1       0  \n",
       "4     -31.4       0.869         5076.2       1  "
      ]
     },
     "execution_count": 1,
     "metadata": {},
     "output_type": "execute_result"
    }
   ],
   "source": [
    "# Import all the necessary packages.\n",
    "import pandas as pd\n",
    "import numpy as np\n",
    "\n",
    "# Read the provided CSV file/data set.\n",
    "df = pd.read_csv('customer_data.csv') \n",
    "\n",
    "# Print the table.\n",
    "df.head()"
   ]
  },
  {
   "cell_type": "code",
   "execution_count": 4,
   "id": "c85c2a8b",
   "metadata": {},
   "outputs": [
    {
     "data": {
      "text/plain": [
       "Age                int64\n",
       "Occupation        object\n",
       "Status            object\n",
       "Edu               object\n",
       "House             object\n",
       "Loan              object\n",
       "Comm              object\n",
       "Month             object\n",
       "DOW               object\n",
       "Duration           int64\n",
       "Campaign           int64\n",
       "PosDays            int64\n",
       "Last_out          object\n",
       "Var_rate         float64\n",
       "Price_idx        float64\n",
       "Conf_idx         float64\n",
       "Month_rate       float64\n",
       "Quarterly_emp    float64\n",
       "Target             int64\n",
       "dtype: object"
      ]
     },
     "execution_count": 4,
     "metadata": {},
     "output_type": "execute_result"
    }
   ],
   "source": [
    "df.dtypes"
   ]
  },
  {
   "cell_type": "code",
   "execution_count": 6,
   "id": "722c846d",
   "metadata": {},
   "outputs": [
    {
     "data": {
      "text/plain": [
       "(41188, 19)"
      ]
     },
     "execution_count": 6,
     "metadata": {},
     "output_type": "execute_result"
    }
   ],
   "source": [
    "df.shape"
   ]
  },
  {
   "cell_type": "code",
   "execution_count": 7,
   "id": "35ec3c8a",
   "metadata": {},
   "outputs": [
    {
     "name": "stdout",
     "output_type": "stream",
     "text": [
      "<class 'pandas.core.frame.DataFrame'>\n",
      "RangeIndex: 41188 entries, 0 to 41187\n",
      "Data columns (total 19 columns):\n",
      " #   Column         Non-Null Count  Dtype  \n",
      "---  ------         --------------  -----  \n",
      " 0   Age            41188 non-null  int64  \n",
      " 1   Occupation     41188 non-null  object \n",
      " 2   Status         41188 non-null  object \n",
      " 3   Edu            41188 non-null  object \n",
      " 4   House          41188 non-null  object \n",
      " 5   Loan           41188 non-null  object \n",
      " 6   Comm           41188 non-null  object \n",
      " 7   Month          41188 non-null  object \n",
      " 8   DOW            41188 non-null  object \n",
      " 9   Duration       41188 non-null  int64  \n",
      " 10  Campaign       41188 non-null  int64  \n",
      " 11  PosDays        41188 non-null  int64  \n",
      " 12  Last_out       41188 non-null  object \n",
      " 13  Var_rate       41188 non-null  float64\n",
      " 14  Price_idx      41188 non-null  float64\n",
      " 15  Conf_idx       41188 non-null  float64\n",
      " 16  Month_rate     41188 non-null  float64\n",
      " 17  Quarterly_emp  41188 non-null  float64\n",
      " 18  Target         41188 non-null  int64  \n",
      "dtypes: float64(5), int64(5), object(9)\n",
      "memory usage: 6.0+ MB\n"
     ]
    }
   ],
   "source": [
    "# Checking for MISSING VALUES\n",
    "df.info()"
   ]
  },
  {
   "cell_type": "markdown",
   "id": "ca098172",
   "metadata": {},
   "source": [
    "# "
   ]
  },
  {
   "cell_type": "markdown",
   "id": "4c4fc057",
   "metadata": {},
   "source": [
    "#### NO MISSING VALUES"
   ]
  },
  {
   "cell_type": "code",
   "execution_count": 8,
   "id": "b23ca6f4",
   "metadata": {},
   "outputs": [],
   "source": [
    "# Target is not in the METADATA, so this is the target for the customer to leave or stay: binary.\n",
    "# Target is dependant variable, so assumptions 1,2 and 6 (large data) are met"
   ]
  },
  {
   "cell_type": "markdown",
   "id": "cfe59d08",
   "metadata": {},
   "source": [
    "### 2.1.4 Worked example II: Checking for meaningful variables\n"
   ]
  },
  {
   "cell_type": "code",
   "execution_count": 11,
   "id": "1aa6fc34",
   "metadata": {},
   "outputs": [
    {
     "data": {
      "text/plain": [
       "university.degree      12168\n",
       "high.school             9515\n",
       "basic.9y                6045\n",
       "professional.course     5243\n",
       "basic.4y                4176\n",
       "basic.6y                2292\n",
       "unknown                 1731\n",
       "illiterate                18\n",
       "Name: Edu, dtype: int64"
      ]
     },
     "execution_count": 11,
     "metadata": {},
     "output_type": "execute_result"
    }
   ],
   "source": [
    "df['Edu'].value_counts()"
   ]
  },
  {
   "cell_type": "code",
   "execution_count": null,
   "id": "501a0eac",
   "metadata": {},
   "outputs": [],
   "source": [
    "# As part of data wrangling, let's change these names\n",
    "# We create two lists with current titles and output titles"
   ]
  },
  {
   "cell_type": "code",
   "execution_count": 12,
   "id": "6654ec6e",
   "metadata": {},
   "outputs": [],
   "source": [
    "initial_vals = ['illiterate', 'unknown', 'basic', 'high', 'university', 'professional']\n",
    "new_vals = ['other', 'other', 'pre-school', 'high-school', 'uni', 'masters']"
   ]
  },
  {
   "cell_type": "code",
   "execution_count": null,
   "id": "6de0be0a",
   "metadata": {},
   "outputs": [],
   "source": [
    "# Now we create a for loop statement to replace the initial values with the new values (new_vals)"
   ]
  },
  {
   "cell_type": "code",
   "execution_count": 13,
   "id": "6e608570",
   "metadata": {},
   "outputs": [],
   "source": [
    "# Create a for loop to replace the values.\n",
    "for old_val, new_val in zip(initial_vals, new_vals):\n",
    "    df.loc[df['Edu'].str.contains(old_val),'Edu' ] = new_val"
   ]
  },
  {
   "cell_type": "code",
   "execution_count": 14,
   "id": "bc8e97a0",
   "metadata": {},
   "outputs": [
    {
     "data": {
      "text/plain": [
       "pre-school     12513\n",
       "uni            12168\n",
       "high-school     9515\n",
       "masters         5243\n",
       "other           1749\n",
       "Name: Edu, dtype: int64"
      ]
     },
     "execution_count": 14,
     "metadata": {},
     "output_type": "execute_result"
    }
   ],
   "source": [
    "df['Edu'].value_counts()"
   ]
  },
  {
   "cell_type": "code",
   "execution_count": 15,
   "id": "a9f99fd3",
   "metadata": {},
   "outputs": [
    {
     "data": {
      "text/plain": [
       "array(['pre-school', 'other', 'uni', 'high-school', 'masters'],\n",
       "      dtype=object)"
      ]
     },
     "execution_count": 15,
     "metadata": {},
     "output_type": "execute_result"
    }
   ],
   "source": [
    "df['Edu'].unique()"
   ]
  },
  {
   "cell_type": "code",
   "execution_count": null,
   "id": "f5c2ee01",
   "metadata": {},
   "outputs": [],
   "source": [
    "# Converting strings to numbers\n",
    "# import sklearn and define a user define function to make the change"
   ]
  },
  {
   "cell_type": "code",
   "execution_count": 16,
   "id": "9d85b3cd",
   "metadata": {},
   "outputs": [],
   "source": [
    "# Import the necessary modules, classes and packages.\n",
    "from sklearn.preprocessing import LabelEncoder\n",
    "from sklearn.utils.validation import column_or_1d"
   ]
  },
  {
   "cell_type": "code",
   "execution_count": 19,
   "id": "7a12740c",
   "metadata": {},
   "outputs": [
    {
     "data": {
      "text/html": [
       "<div>\n",
       "<style scoped>\n",
       "    .dataframe tbody tr th:only-of-type {\n",
       "        vertical-align: middle;\n",
       "    }\n",
       "\n",
       "    .dataframe tbody tr th {\n",
       "        vertical-align: top;\n",
       "    }\n",
       "\n",
       "    .dataframe thead th {\n",
       "        text-align: right;\n",
       "    }\n",
       "</style>\n",
       "<table border=\"1\" class=\"dataframe\">\n",
       "  <thead>\n",
       "    <tr style=\"text-align: right;\">\n",
       "      <th></th>\n",
       "      <th>Occupation</th>\n",
       "      <th>Status</th>\n",
       "      <th>Edu</th>\n",
       "      <th>House</th>\n",
       "      <th>Loan</th>\n",
       "      <th>Comm</th>\n",
       "      <th>Month</th>\n",
       "      <th>DOW</th>\n",
       "      <th>Last_out</th>\n",
       "    </tr>\n",
       "  </thead>\n",
       "  <tbody>\n",
       "    <tr>\n",
       "      <th>0</th>\n",
       "      <td>blue-collar</td>\n",
       "      <td>married</td>\n",
       "      <td>pre-school</td>\n",
       "      <td>yes</td>\n",
       "      <td>no</td>\n",
       "      <td>cellular</td>\n",
       "      <td>aug</td>\n",
       "      <td>thu</td>\n",
       "      <td>nonexistent</td>\n",
       "    </tr>\n",
       "    <tr>\n",
       "      <th>1</th>\n",
       "      <td>technician</td>\n",
       "      <td>married</td>\n",
       "      <td>other</td>\n",
       "      <td>no</td>\n",
       "      <td>no</td>\n",
       "      <td>cellular</td>\n",
       "      <td>nov</td>\n",
       "      <td>fri</td>\n",
       "      <td>nonexistent</td>\n",
       "    </tr>\n",
       "    <tr>\n",
       "      <th>2</th>\n",
       "      <td>management</td>\n",
       "      <td>single</td>\n",
       "      <td>uni</td>\n",
       "      <td>yes</td>\n",
       "      <td>no</td>\n",
       "      <td>cellular</td>\n",
       "      <td>jun</td>\n",
       "      <td>thu</td>\n",
       "      <td>success</td>\n",
       "    </tr>\n",
       "    <tr>\n",
       "      <th>3</th>\n",
       "      <td>services</td>\n",
       "      <td>married</td>\n",
       "      <td>high-school</td>\n",
       "      <td>no</td>\n",
       "      <td>no</td>\n",
       "      <td>cellular</td>\n",
       "      <td>apr</td>\n",
       "      <td>fri</td>\n",
       "      <td>nonexistent</td>\n",
       "    </tr>\n",
       "    <tr>\n",
       "      <th>4</th>\n",
       "      <td>retired</td>\n",
       "      <td>married</td>\n",
       "      <td>pre-school</td>\n",
       "      <td>yes</td>\n",
       "      <td>no</td>\n",
       "      <td>cellular</td>\n",
       "      <td>aug</td>\n",
       "      <td>fri</td>\n",
       "      <td>success</td>\n",
       "    </tr>\n",
       "    <tr>\n",
       "      <th>...</th>\n",
       "      <td>...</td>\n",
       "      <td>...</td>\n",
       "      <td>...</td>\n",
       "      <td>...</td>\n",
       "      <td>...</td>\n",
       "      <td>...</td>\n",
       "      <td>...</td>\n",
       "      <td>...</td>\n",
       "      <td>...</td>\n",
       "    </tr>\n",
       "    <tr>\n",
       "      <th>41183</th>\n",
       "      <td>retired</td>\n",
       "      <td>married</td>\n",
       "      <td>high-school</td>\n",
       "      <td>no</td>\n",
       "      <td>yes</td>\n",
       "      <td>telephone</td>\n",
       "      <td>jun</td>\n",
       "      <td>thu</td>\n",
       "      <td>nonexistent</td>\n",
       "    </tr>\n",
       "    <tr>\n",
       "      <th>41184</th>\n",
       "      <td>housemaid</td>\n",
       "      <td>married</td>\n",
       "      <td>pre-school</td>\n",
       "      <td>no</td>\n",
       "      <td>no</td>\n",
       "      <td>telephone</td>\n",
       "      <td>may</td>\n",
       "      <td>thu</td>\n",
       "      <td>nonexistent</td>\n",
       "    </tr>\n",
       "    <tr>\n",
       "      <th>41185</th>\n",
       "      <td>admin.</td>\n",
       "      <td>single</td>\n",
       "      <td>uni</td>\n",
       "      <td>yes</td>\n",
       "      <td>yes</td>\n",
       "      <td>telephone</td>\n",
       "      <td>may</td>\n",
       "      <td>wed</td>\n",
       "      <td>nonexistent</td>\n",
       "    </tr>\n",
       "    <tr>\n",
       "      <th>41186</th>\n",
       "      <td>technician</td>\n",
       "      <td>married</td>\n",
       "      <td>masters</td>\n",
       "      <td>no</td>\n",
       "      <td>yes</td>\n",
       "      <td>telephone</td>\n",
       "      <td>oct</td>\n",
       "      <td>tue</td>\n",
       "      <td>nonexistent</td>\n",
       "    </tr>\n",
       "    <tr>\n",
       "      <th>41187</th>\n",
       "      <td>student</td>\n",
       "      <td>single</td>\n",
       "      <td>high-school</td>\n",
       "      <td>no</td>\n",
       "      <td>no</td>\n",
       "      <td>telephone</td>\n",
       "      <td>may</td>\n",
       "      <td>fri</td>\n",
       "      <td>nonexistent</td>\n",
       "    </tr>\n",
       "  </tbody>\n",
       "</table>\n",
       "<p>41188 rows × 9 columns</p>\n",
       "</div>"
      ],
      "text/plain": [
       "        Occupation   Status          Edu House Loan       Comm Month  DOW  \\\n",
       "0      blue-collar  married   pre-school   yes   no   cellular   aug  thu   \n",
       "1       technician  married        other    no   no   cellular   nov  fri   \n",
       "2       management   single          uni   yes   no   cellular   jun  thu   \n",
       "3         services  married  high-school    no   no   cellular   apr  fri   \n",
       "4          retired  married   pre-school   yes   no   cellular   aug  fri   \n",
       "...            ...      ...          ...   ...  ...        ...   ...  ...   \n",
       "41183      retired  married  high-school    no  yes  telephone   jun  thu   \n",
       "41184    housemaid  married   pre-school    no   no  telephone   may  thu   \n",
       "41185       admin.   single          uni   yes  yes  telephone   may  wed   \n",
       "41186   technician  married      masters    no  yes  telephone   oct  tue   \n",
       "41187      student   single  high-school    no   no  telephone   may  fri   \n",
       "\n",
       "          Last_out  \n",
       "0      nonexistent  \n",
       "1      nonexistent  \n",
       "2          success  \n",
       "3      nonexistent  \n",
       "4          success  \n",
       "...            ...  \n",
       "41183  nonexistent  \n",
       "41184  nonexistent  \n",
       "41185  nonexistent  \n",
       "41186  nonexistent  \n",
       "41187  nonexistent  \n",
       "\n",
       "[41188 rows x 9 columns]"
      ]
     },
     "execution_count": 19,
     "metadata": {},
     "output_type": "execute_result"
    }
   ],
   "source": [
    "# Create a class and write a user defined function.\n",
    "class MyLabelEncoder(LabelEncoder):\n",
    "    def fit(self, y):\n",
    "        y = column_or_1d(y, warn=True)\n",
    "        self.classes_ = pd.Series(y).unique()\n",
    "        return self\n",
    "    \n",
    "# View the output.\n",
    "df.select_dtypes(include='object')"
   ]
  },
  {
   "cell_type": "code",
   "execution_count": 20,
   "id": "e88c5fd0",
   "metadata": {},
   "outputs": [],
   "source": [
    "# Order lists of the values for each column containing strings.\n",
    "Edu_order = ['other', 'pre-school', 'high-school', 'uni', 'masters']\n",
    "House_order = ['no', 'unknown', 'yes']\n",
    "Loan_order = ['no', 'unknown', 'yes']\n",
    "Month_order = ['mar', 'apr', 'may', 'jun', 'jul', 'aug', 'sep', 'oct',\n",
    "               'nov', 'dec']\n",
    "DOW_order = ['mon', 'tue', 'wed', 'thu', 'fri']\n",
    "Last_out_order = ['nonexistent', 'failure', 'success']"
   ]
  },
  {
   "cell_type": "code",
   "execution_count": 21,
   "id": "400f1524",
   "metadata": {},
   "outputs": [],
   "source": [
    "# List of values to transform into numbers even though the values are not ordered.\n",
    "Occupation_list = ['unemployed', 'unknown', 'student', 'blue-collar',\n",
    "                   'technician', 'housemaid', 'admin.','retired',\n",
    "                   'self-employed', 'entrepreneur', 'management', 'services']\n",
    "Status_list = ['unknown', 'single', 'divorced', 'married']\n",
    "Comm_list = ['cellular', 'telephone']"
   ]
  },
  {
   "cell_type": "code",
   "execution_count": 22,
   "id": "93c52bf5",
   "metadata": {},
   "outputs": [],
   "source": [
    "# Create a list containing all of the list of values.\n",
    "Encoding_list = [Occupation_list, Status_list, Edu_order, House_order,\n",
    "                 Loan_order, Comm_list, Month_order, DOW_order, Last_out_order]"
   ]
  },
  {
   "cell_type": "code",
   "execution_count": 23,
   "id": "a901689b",
   "metadata": {},
   "outputs": [],
   "source": [
    "# Pick non-numerical columns.\n",
    "object_cols = df.select_dtypes(include= 'object').columns"
   ]
  },
  {
   "cell_type": "code",
   "execution_count": 24,
   "id": "32f644db",
   "metadata": {},
   "outputs": [],
   "source": [
    "#Transform string values to number with our LabelEncoder function.\n",
    "for idx in range(len(object_cols)): \n",
    "    \n",
    "    le = MyLabelEncoder()\n",
    "    le.fit(Encoding_list[idx])\n",
    "    df[object_cols[idx]] = le.transform(df[object_cols[idx]])"
   ]
  },
  {
   "cell_type": "code",
   "execution_count": 25,
   "id": "d77e2709",
   "metadata": {},
   "outputs": [
    {
     "data": {
      "text/html": [
       "<div>\n",
       "<style scoped>\n",
       "    .dataframe tbody tr th:only-of-type {\n",
       "        vertical-align: middle;\n",
       "    }\n",
       "\n",
       "    .dataframe tbody tr th {\n",
       "        vertical-align: top;\n",
       "    }\n",
       "\n",
       "    .dataframe thead th {\n",
       "        text-align: right;\n",
       "    }\n",
       "</style>\n",
       "<table border=\"1\" class=\"dataframe\">\n",
       "  <thead>\n",
       "    <tr style=\"text-align: right;\">\n",
       "      <th></th>\n",
       "      <th>Age</th>\n",
       "      <th>Occupation</th>\n",
       "      <th>Status</th>\n",
       "      <th>Edu</th>\n",
       "      <th>House</th>\n",
       "      <th>Loan</th>\n",
       "      <th>Comm</th>\n",
       "      <th>Month</th>\n",
       "      <th>DOW</th>\n",
       "      <th>Duration</th>\n",
       "      <th>Campaign</th>\n",
       "      <th>PosDays</th>\n",
       "      <th>Last_out</th>\n",
       "      <th>Var_rate</th>\n",
       "      <th>Price_idx</th>\n",
       "      <th>Conf_idx</th>\n",
       "      <th>Month_rate</th>\n",
       "      <th>Quarterly_emp</th>\n",
       "      <th>Target</th>\n",
       "    </tr>\n",
       "  </thead>\n",
       "  <tbody>\n",
       "    <tr>\n",
       "      <th>0</th>\n",
       "      <td>44</td>\n",
       "      <td>3</td>\n",
       "      <td>3</td>\n",
       "      <td>1</td>\n",
       "      <td>2</td>\n",
       "      <td>0</td>\n",
       "      <td>0</td>\n",
       "      <td>5</td>\n",
       "      <td>3</td>\n",
       "      <td>210</td>\n",
       "      <td>1</td>\n",
       "      <td>999</td>\n",
       "      <td>0</td>\n",
       "      <td>1.4</td>\n",
       "      <td>93.444</td>\n",
       "      <td>-36.1</td>\n",
       "      <td>4.963</td>\n",
       "      <td>5228.1</td>\n",
       "      <td>0</td>\n",
       "    </tr>\n",
       "    <tr>\n",
       "      <th>1</th>\n",
       "      <td>53</td>\n",
       "      <td>4</td>\n",
       "      <td>3</td>\n",
       "      <td>0</td>\n",
       "      <td>0</td>\n",
       "      <td>0</td>\n",
       "      <td>0</td>\n",
       "      <td>8</td>\n",
       "      <td>4</td>\n",
       "      <td>138</td>\n",
       "      <td>1</td>\n",
       "      <td>999</td>\n",
       "      <td>0</td>\n",
       "      <td>-0.1</td>\n",
       "      <td>93.200</td>\n",
       "      <td>-42.0</td>\n",
       "      <td>4.021</td>\n",
       "      <td>5195.8</td>\n",
       "      <td>0</td>\n",
       "    </tr>\n",
       "    <tr>\n",
       "      <th>2</th>\n",
       "      <td>28</td>\n",
       "      <td>10</td>\n",
       "      <td>1</td>\n",
       "      <td>3</td>\n",
       "      <td>2</td>\n",
       "      <td>0</td>\n",
       "      <td>0</td>\n",
       "      <td>3</td>\n",
       "      <td>3</td>\n",
       "      <td>339</td>\n",
       "      <td>3</td>\n",
       "      <td>6</td>\n",
       "      <td>2</td>\n",
       "      <td>-1.7</td>\n",
       "      <td>94.055</td>\n",
       "      <td>-39.8</td>\n",
       "      <td>0.729</td>\n",
       "      <td>4991.6</td>\n",
       "      <td>1</td>\n",
       "    </tr>\n",
       "    <tr>\n",
       "      <th>3</th>\n",
       "      <td>39</td>\n",
       "      <td>11</td>\n",
       "      <td>3</td>\n",
       "      <td>2</td>\n",
       "      <td>0</td>\n",
       "      <td>0</td>\n",
       "      <td>0</td>\n",
       "      <td>1</td>\n",
       "      <td>4</td>\n",
       "      <td>185</td>\n",
       "      <td>2</td>\n",
       "      <td>999</td>\n",
       "      <td>0</td>\n",
       "      <td>-1.8</td>\n",
       "      <td>93.075</td>\n",
       "      <td>-47.1</td>\n",
       "      <td>1.405</td>\n",
       "      <td>5099.1</td>\n",
       "      <td>0</td>\n",
       "    </tr>\n",
       "    <tr>\n",
       "      <th>4</th>\n",
       "      <td>55</td>\n",
       "      <td>7</td>\n",
       "      <td>3</td>\n",
       "      <td>1</td>\n",
       "      <td>2</td>\n",
       "      <td>0</td>\n",
       "      <td>0</td>\n",
       "      <td>5</td>\n",
       "      <td>4</td>\n",
       "      <td>137</td>\n",
       "      <td>1</td>\n",
       "      <td>3</td>\n",
       "      <td>2</td>\n",
       "      <td>-2.9</td>\n",
       "      <td>92.201</td>\n",
       "      <td>-31.4</td>\n",
       "      <td>0.869</td>\n",
       "      <td>5076.2</td>\n",
       "      <td>1</td>\n",
       "    </tr>\n",
       "  </tbody>\n",
       "</table>\n",
       "</div>"
      ],
      "text/plain": [
       "   Age  Occupation  Status  Edu  House  Loan  Comm  Month  DOW  Duration  \\\n",
       "0   44           3       3    1      2     0     0      5    3       210   \n",
       "1   53           4       3    0      0     0     0      8    4       138   \n",
       "2   28          10       1    3      2     0     0      3    3       339   \n",
       "3   39          11       3    2      0     0     0      1    4       185   \n",
       "4   55           7       3    1      2     0     0      5    4       137   \n",
       "\n",
       "   Campaign  PosDays  Last_out  Var_rate  Price_idx  Conf_idx  Month_rate  \\\n",
       "0         1      999         0       1.4     93.444     -36.1       4.963   \n",
       "1         1      999         0      -0.1     93.200     -42.0       4.021   \n",
       "2         3        6         2      -1.7     94.055     -39.8       0.729   \n",
       "3         2      999         0      -1.8     93.075     -47.1       1.405   \n",
       "4         1        3         2      -2.9     92.201     -31.4       0.869   \n",
       "\n",
       "   Quarterly_emp  Target  \n",
       "0         5228.1       0  \n",
       "1         5195.8       0  \n",
       "2         4991.6       1  \n",
       "3         5099.1       0  \n",
       "4         5076.2       1  "
      ]
     },
     "execution_count": 25,
     "metadata": {},
     "output_type": "execute_result"
    }
   ],
   "source": [
    "# View the DataFrame.\n",
    "df.head()"
   ]
  },
  {
   "cell_type": "code",
   "execution_count": 26,
   "id": "b7ca7f7a",
   "metadata": {},
   "outputs": [],
   "source": [
    "# Now we need to BALANCE THE DATA"
   ]
  },
  {
   "cell_type": "code",
   "execution_count": 27,
   "id": "e8251dcd",
   "metadata": {},
   "outputs": [
    {
     "data": {
      "text/plain": [
       "0    36548\n",
       "1     4640\n",
       "Name: Target, dtype: int64"
      ]
     },
     "execution_count": 27,
     "metadata": {},
     "output_type": "execute_result"
    }
   ],
   "source": [
    "# Determine if values in a column are balanced.\n",
    "df['Target'].value_counts()  "
   ]
  },
  {
   "cell_type": "code",
   "execution_count": 29,
   "id": "fe95d22b",
   "metadata": {},
   "outputs": [],
   "source": [
    "# There are many more 0 than 1: let's see it visually plotting the 'Target' column data"
   ]
  },
  {
   "cell_type": "code",
   "execution_count": 30,
   "id": "acf1cace",
   "metadata": {},
   "outputs": [
    {
     "data": {
      "text/plain": [
       "Text(0.5, 1.0, 'Target Imbalance')"
      ]
     },
     "execution_count": 30,
     "metadata": {},
     "output_type": "execute_result"
    },
    {
     "data": {
      "image/png": "[encoded data removed]",
      "text/plain": [
       "<Figure size 432x288 with 1 Axes>"
      ]
     },
     "metadata": {},
     "output_type": "display_data"
    }
   ],
   "source": [
    "# Create a plot with Seaborn.\n",
    "import seaborn as sns\n",
    "\n",
    "sns.set_theme(style='darkgrid')\n",
    "ax = sns.countplot(x='Target', data=df)\n",
    "ax.set_title('Target Imbalance')"
   ]
  },
  {
   "cell_type": "code",
   "execution_count": 79,
   "id": "3ca7f968",
   "metadata": {},
   "outputs": [
    {
     "name": "stdout",
     "output_type": "stream",
     "text": [
      "Requirement already satisfied: imblearn in ./opt/anaconda3/lib/python3.9/site-packages (0.0)\n",
      "Requirement already satisfied: imbalanced-learn in ./opt/anaconda3/lib/python3.9/site-packages (from imblearn) (0.9.1)\n",
      "Requirement already satisfied: threadpoolctl>=2.0.0 in ./opt/anaconda3/lib/python3.9/site-packages (from imbalanced-learn->imblearn) (3.1.0)\n",
      "Requirement already satisfied: scikit-learn>=1.1.0 in ./opt/anaconda3/lib/python3.9/site-packages (from imbalanced-learn->imblearn) (1.1.1)\n",
      "Requirement already satisfied: numpy>=1.17.3 in ./opt/anaconda3/lib/python3.9/site-packages (from imbalanced-learn->imblearn) (1.23.1)\n",
      "Requirement already satisfied: joblib>=1.0.0 in ./opt/anaconda3/lib/python3.9/site-packages (from imbalanced-learn->imblearn) (1.1.0)\n",
      "Requirement already satisfied: scipy>=1.3.2 in ./opt/anaconda3/lib/python3.9/site-packages (from imbalanced-learn->imblearn) (1.8.1)\n",
      "Requirement already satisfied: scipy in ./opt/anaconda3/lib/python3.9/site-packages (1.8.1)\n",
      "Requirement already satisfied: numpy<1.25.0,>=1.17.3 in ./opt/anaconda3/lib/python3.9/site-packages (from scipy) (1.23.1)\n",
      "Requirement already satisfied: scikit-learn in ./opt/anaconda3/lib/python3.9/site-packages (1.1.1)\n",
      "Requirement already satisfied: scipy>=1.3.2 in ./opt/anaconda3/lib/python3.9/site-packages (from scikit-learn) (1.8.1)\n",
      "Requirement already satisfied: threadpoolctl>=2.0.0 in ./opt/anaconda3/lib/python3.9/site-packages (from scikit-learn) (3.1.0)\n",
      "Requirement already satisfied: joblib>=1.0.0 in ./opt/anaconda3/lib/python3.9/site-packages (from scikit-learn) (1.1.0)\n",
      "Requirement already satisfied: numpy>=1.17.3 in ./opt/anaconda3/lib/python3.9/site-packages (from scikit-learn) (1.23.1)\n",
      "Requirement already satisfied: SMOTE in ./opt/anaconda3/lib/python3.9/site-packages (0.1)\n",
      "Requirement already satisfied: scikit-learn>=0.19.1 in ./opt/anaconda3/lib/python3.9/site-packages (from SMOTE) (1.1.1)\n",
      "Requirement already satisfied: numpy>=1.14.3 in ./opt/anaconda3/lib/python3.9/site-packages (from SMOTE) (1.23.1)\n",
      "Requirement already satisfied: joblib>=1.0.0 in ./opt/anaconda3/lib/python3.9/site-packages (from scikit-learn>=0.19.1->SMOTE) (1.1.0)\n",
      "Requirement already satisfied: threadpoolctl>=2.0.0 in ./opt/anaconda3/lib/python3.9/site-packages (from scikit-learn>=0.19.1->SMOTE) (3.1.0)\n",
      "Requirement already satisfied: scipy>=1.3.2 in ./opt/anaconda3/lib/python3.9/site-packages (from scikit-learn>=0.19.1->SMOTE) (1.8.1)\n"
     ]
    }
   ],
   "source": [
    "# Confirmed: we need to balance the data, for which we need a few more libraries.\n",
    "\n",
    "# Handles unbalanced data (scikit-learn needed).\n",
    "!pip install imblearn  \n",
    "# Optimised linear, algebra, integrations (scientific).\n",
    "!pip install scipy  \n",
    "# Simple tools for predictive data analytics.\n",
    "!pip install scikit-learn  \n",
    "# Oversampling technique; creates new samples from data.\n",
    "!pip install SMOTE"
   ]
  },
  {
   "cell_type": "code",
   "execution_count": 21,
   "id": "61faa648",
   "metadata": {},
   "outputs": [
    {
     "ename": "ImportError",
     "evalue": "cannot import name '_centered' from 'scipy.signal.signaltools' (/Users/javierconde/opt/anaconda3/lib/python3.9/site-packages/scipy/signal/signaltools.py)",
     "output_type": "error",
     "traceback": [
      "\u001b[0;31m---------------------------------------------------------------------------\u001b[0m",
      "\u001b[0;31mImportError\u001b[0m                               Traceback (most recent call last)",
      "\u001b[0;32m/var/folders/_k/8h4zfdrd3qgd4kzz6qhbbzyh0000gn/T/ipykernel_14704/2649264214.py\u001b[0m in \u001b[0;36m<module>\u001b[0;34m\u001b[0m\n\u001b[1;32m      2\u001b[0m \u001b[0;31m# import imblearn\u001b[0m\u001b[0;34m\u001b[0m\u001b[0;34m\u001b[0m\u001b[0m\n\u001b[1;32m      3\u001b[0m \u001b[0;31m# from sklearn.model_selection import train_test_split\u001b[0m\u001b[0;34m\u001b[0m\u001b[0;34m\u001b[0m\u001b[0m\n\u001b[0;32m----> 4\u001b[0;31m \u001b[0;32mimport\u001b[0m \u001b[0mstatsmodels\u001b[0m\u001b[0;34m.\u001b[0m\u001b[0mapi\u001b[0m \u001b[0;32mas\u001b[0m \u001b[0msm\u001b[0m\u001b[0;34m\u001b[0m\u001b[0;34m\u001b[0m\u001b[0m\n\u001b[0m\u001b[1;32m      5\u001b[0m \u001b[0;32mimport\u001b[0m \u001b[0mwarnings\u001b[0m\u001b[0;34m\u001b[0m\u001b[0;34m\u001b[0m\u001b[0m\n\u001b[1;32m      6\u001b[0m \u001b[0mwarnings\u001b[0m\u001b[0;34m.\u001b[0m\u001b[0mfilterwarnings\u001b[0m\u001b[0;34m(\u001b[0m\u001b[0;34m\"ignore\"\u001b[0m\u001b[0;34m)\u001b[0m\u001b[0;34m\u001b[0m\u001b[0;34m\u001b[0m\u001b[0m\n",
      "\u001b[0;32m~/opt/anaconda3/lib/python3.9/site-packages/statsmodels/api.py\u001b[0m in \u001b[0;36m<module>\u001b[0;34m\u001b[0m\n\u001b[1;32m     25\u001b[0m                                    \u001b[0mZeroInflatedGeneralizedPoisson\u001b[0m\u001b[0;34m,\u001b[0m\u001b[0;34m\u001b[0m\u001b[0;34m\u001b[0m\u001b[0m\n\u001b[1;32m     26\u001b[0m                                    ZeroInflatedNegativeBinomialP)\n\u001b[0;32m---> 27\u001b[0;31m \u001b[0;32mfrom\u001b[0m \u001b[0;34m.\u001b[0m\u001b[0mtsa\u001b[0m \u001b[0;32mimport\u001b[0m \u001b[0mapi\u001b[0m \u001b[0;32mas\u001b[0m \u001b[0mtsa\u001b[0m\u001b[0;34m\u001b[0m\u001b[0;34m\u001b[0m\u001b[0m\n\u001b[0m\u001b[1;32m     28\u001b[0m \u001b[0;32mfrom\u001b[0m \u001b[0;34m.\u001b[0m\u001b[0mduration\u001b[0m\u001b[0;34m.\u001b[0m\u001b[0msurvfunc\u001b[0m \u001b[0;32mimport\u001b[0m \u001b[0mSurvfuncRight\u001b[0m\u001b[0;34m\u001b[0m\u001b[0;34m\u001b[0m\u001b[0m\n\u001b[1;32m     29\u001b[0m \u001b[0;32mfrom\u001b[0m \u001b[0;34m.\u001b[0m\u001b[0mduration\u001b[0m\u001b[0;34m.\u001b[0m\u001b[0mhazard_regression\u001b[0m \u001b[0;32mimport\u001b[0m \u001b[0mPHReg\u001b[0m\u001b[0;34m\u001b[0m\u001b[0;34m\u001b[0m\u001b[0m\n",
      "\u001b[0;32m~/opt/anaconda3/lib/python3.9/site-packages/statsmodels/tsa/api.py\u001b[0m in \u001b[0;36m<module>\u001b[0;34m\u001b[0m\n\u001b[1;32m     29\u001b[0m \u001b[0;32mfrom\u001b[0m \u001b[0;34m.\u001b[0m\u001b[0mvector_ar\u001b[0m\u001b[0;34m.\u001b[0m\u001b[0mvecm\u001b[0m \u001b[0;32mimport\u001b[0m \u001b[0mVECM\u001b[0m\u001b[0;34m\u001b[0m\u001b[0;34m\u001b[0m\u001b[0m\n\u001b[1;32m     30\u001b[0m \u001b[0;32mfrom\u001b[0m \u001b[0;34m.\u001b[0m\u001b[0mvector_ar\u001b[0m\u001b[0;34m.\u001b[0m\u001b[0msvar_model\u001b[0m \u001b[0;32mimport\u001b[0m \u001b[0mSVAR\u001b[0m\u001b[0;34m\u001b[0m\u001b[0;34m\u001b[0m\u001b[0m\n\u001b[0;32m---> 31\u001b[0;31m \u001b[0;32mfrom\u001b[0m \u001b[0;34m.\u001b[0m\u001b[0mfilters\u001b[0m \u001b[0;32mimport\u001b[0m \u001b[0mapi\u001b[0m \u001b[0;32mas\u001b[0m \u001b[0mfilters\u001b[0m\u001b[0;34m\u001b[0m\u001b[0;34m\u001b[0m\u001b[0m\n\u001b[0m\u001b[1;32m     32\u001b[0m \u001b[0;32mfrom\u001b[0m \u001b[0;34m.\u001b[0m \u001b[0;32mimport\u001b[0m \u001b[0mtsatools\u001b[0m\u001b[0;34m\u001b[0m\u001b[0;34m\u001b[0m\u001b[0m\n\u001b[1;32m     33\u001b[0m \u001b[0;32mfrom\u001b[0m \u001b[0;34m.\u001b[0m\u001b[0mtsatools\u001b[0m \u001b[0;32mimport\u001b[0m \u001b[0;34m(\u001b[0m\u001b[0madd_trend\u001b[0m\u001b[0;34m,\u001b[0m \u001b[0mdetrend\u001b[0m\u001b[0;34m,\u001b[0m \u001b[0mlagmat\u001b[0m\u001b[0;34m,\u001b[0m \u001b[0mlagmat2ds\u001b[0m\u001b[0;34m,\u001b[0m \u001b[0madd_lag\u001b[0m\u001b[0;34m)\u001b[0m\u001b[0;34m\u001b[0m\u001b[0;34m\u001b[0m\u001b[0m\n",
      "\u001b[0;32m~/opt/anaconda3/lib/python3.9/site-packages/statsmodels/tsa/filters/api.py\u001b[0m in \u001b[0;36m<module>\u001b[0;34m\u001b[0m\n\u001b[1;32m      4\u001b[0m \u001b[0;32mfrom\u001b[0m \u001b[0;34m.\u001b[0m\u001b[0mhp_filter\u001b[0m \u001b[0;32mimport\u001b[0m \u001b[0mhpfilter\u001b[0m\u001b[0;34m\u001b[0m\u001b[0;34m\u001b[0m\u001b[0m\n\u001b[1;32m      5\u001b[0m \u001b[0;32mfrom\u001b[0m \u001b[0;34m.\u001b[0m\u001b[0mcf_filter\u001b[0m \u001b[0;32mimport\u001b[0m \u001b[0mcffilter\u001b[0m\u001b[0;34m\u001b[0m\u001b[0;34m\u001b[0m\u001b[0m\n\u001b[0;32m----> 6\u001b[0;31m \u001b[0;32mfrom\u001b[0m \u001b[0;34m.\u001b[0m\u001b[0mfiltertools\u001b[0m \u001b[0;32mimport\u001b[0m \u001b[0mmiso_lfilter\u001b[0m\u001b[0;34m,\u001b[0m \u001b[0mconvolution_filter\u001b[0m\u001b[0;34m,\u001b[0m \u001b[0mrecursive_filter\u001b[0m\u001b[0;34m\u001b[0m\u001b[0;34m\u001b[0m\u001b[0m\n\u001b[0m",
      "\u001b[0;32m~/opt/anaconda3/lib/python3.9/site-packages/statsmodels/tsa/filters/filtertools.py\u001b[0m in \u001b[0;36m<module>\u001b[0;34m\u001b[0m\n\u001b[1;32m     16\u001b[0m \u001b[0;32mimport\u001b[0m \u001b[0mscipy\u001b[0m\u001b[0;34m.\u001b[0m\u001b[0mfftpack\u001b[0m \u001b[0;32mas\u001b[0m \u001b[0mfft\u001b[0m\u001b[0;34m\u001b[0m\u001b[0;34m\u001b[0m\u001b[0m\n\u001b[1;32m     17\u001b[0m \u001b[0;32mfrom\u001b[0m \u001b[0mscipy\u001b[0m \u001b[0;32mimport\u001b[0m \u001b[0msignal\u001b[0m\u001b[0;34m\u001b[0m\u001b[0;34m\u001b[0m\u001b[0m\n\u001b[0;32m---> 18\u001b[0;31m \u001b[0;32mfrom\u001b[0m \u001b[0mscipy\u001b[0m\u001b[0;34m.\u001b[0m\u001b[0msignal\u001b[0m\u001b[0;34m.\u001b[0m\u001b[0msignaltools\u001b[0m \u001b[0;32mimport\u001b[0m \u001b[0m_centered\u001b[0m \u001b[0;32mas\u001b[0m \u001b[0mtrim_centered\u001b[0m\u001b[0;34m\u001b[0m\u001b[0;34m\u001b[0m\u001b[0m\n\u001b[0m\u001b[1;32m     19\u001b[0m \u001b[0;34m\u001b[0m\u001b[0m\n\u001b[1;32m     20\u001b[0m \u001b[0;32mfrom\u001b[0m \u001b[0mstatsmodels\u001b[0m\u001b[0;34m.\u001b[0m\u001b[0mtools\u001b[0m\u001b[0;34m.\u001b[0m\u001b[0mvalidation\u001b[0m \u001b[0;32mimport\u001b[0m \u001b[0marray_like\u001b[0m\u001b[0;34m,\u001b[0m \u001b[0mPandasWrapper\u001b[0m\u001b[0;34m\u001b[0m\u001b[0;34m\u001b[0m\u001b[0m\n",
      "\u001b[0;31mImportError\u001b[0m: cannot import name '_centered' from 'scipy.signal.signaltools' (/Users/javierconde/opt/anaconda3/lib/python3.9/site-packages/scipy/signal/signaltools.py)"
     ]
    }
   ],
   "source": [
    "# Import necessary packages.\n",
    "# import imblearn\n",
    "# from sklearn.model_selection import train_test_split\n",
    "import statsmodels.api as sm\n",
    "import warnings\n",
    "warnings.filterwarnings(\"ignore\")\n",
    "# from sklearn.linear_model import LogisticRegression\n",
    "# from sklearn import metrics\n",
    "from sklearn.metrics import accuracy_score, confusion_matrix\n",
    "from sklearn.metrics import classification_report"
   ]
  },
  {
   "cell_type": "code",
   "execution_count": 22,
   "id": "fc25cd3d",
   "metadata": {},
   "outputs": [
    {
     "ename": "ImportError",
     "evalue": "cannot import name '_centered' from 'scipy.signal.signaltools' (/Users/javierconde/opt/anaconda3/lib/python3.9/site-packages/scipy/signal/signaltools.py)",
     "output_type": "error",
     "traceback": [
      "\u001b[0;31m---------------------------------------------------------------------------\u001b[0m",
      "\u001b[0;31mImportError\u001b[0m                               Traceback (most recent call last)",
      "\u001b[0;32m/var/folders/_k/8h4zfdrd3qgd4kzz6qhbbzyh0000gn/T/ipykernel_14704/2818858109.py\u001b[0m in \u001b[0;36m<module>\u001b[0;34m\u001b[0m\n\u001b[1;32m      1\u001b[0m \u001b[0;31m# Import all the necessary packages:\u001b[0m\u001b[0;34m\u001b[0m\u001b[0;34m\u001b[0m\u001b[0m\n\u001b[0;32m----> 2\u001b[0;31m \u001b[0;32mimport\u001b[0m \u001b[0mstatsmodels\u001b[0m\u001b[0;34m.\u001b[0m\u001b[0mapi\u001b[0m \u001b[0;32mas\u001b[0m \u001b[0msm\u001b[0m\u001b[0;34m\u001b[0m\u001b[0;34m\u001b[0m\u001b[0m\n\u001b[0m\u001b[1;32m      3\u001b[0m \u001b[0;32mimport\u001b[0m \u001b[0mimblearn\u001b[0m\u001b[0;34m\u001b[0m\u001b[0;34m\u001b[0m\u001b[0m\n\u001b[1;32m      4\u001b[0m \u001b[0;32mfrom\u001b[0m \u001b[0mimblearn\u001b[0m\u001b[0;34m.\u001b[0m\u001b[0mover_sampling\u001b[0m \u001b[0;32mimport\u001b[0m \u001b[0mSMOTE\u001b[0m\u001b[0;34m\u001b[0m\u001b[0;34m\u001b[0m\u001b[0m\n\u001b[1;32m      5\u001b[0m \u001b[0;32mfrom\u001b[0m \u001b[0msklearn\u001b[0m\u001b[0;34m.\u001b[0m\u001b[0mmodel_selection\u001b[0m \u001b[0;32mimport\u001b[0m \u001b[0mtrain_test_split\u001b[0m\u001b[0;34m\u001b[0m\u001b[0;34m\u001b[0m\u001b[0m\n",
      "\u001b[0;32m~/opt/anaconda3/lib/python3.9/site-packages/statsmodels/api.py\u001b[0m in \u001b[0;36m<module>\u001b[0;34m\u001b[0m\n\u001b[1;32m     25\u001b[0m                                    \u001b[0mZeroInflatedGeneralizedPoisson\u001b[0m\u001b[0;34m,\u001b[0m\u001b[0;34m\u001b[0m\u001b[0;34m\u001b[0m\u001b[0m\n\u001b[1;32m     26\u001b[0m                                    ZeroInflatedNegativeBinomialP)\n\u001b[0;32m---> 27\u001b[0;31m \u001b[0;32mfrom\u001b[0m \u001b[0;34m.\u001b[0m\u001b[0mtsa\u001b[0m \u001b[0;32mimport\u001b[0m \u001b[0mapi\u001b[0m \u001b[0;32mas\u001b[0m \u001b[0mtsa\u001b[0m\u001b[0;34m\u001b[0m\u001b[0;34m\u001b[0m\u001b[0m\n\u001b[0m\u001b[1;32m     28\u001b[0m \u001b[0;32mfrom\u001b[0m \u001b[0;34m.\u001b[0m\u001b[0mduration\u001b[0m\u001b[0;34m.\u001b[0m\u001b[0msurvfunc\u001b[0m \u001b[0;32mimport\u001b[0m \u001b[0mSurvfuncRight\u001b[0m\u001b[0;34m\u001b[0m\u001b[0;34m\u001b[0m\u001b[0m\n\u001b[1;32m     29\u001b[0m \u001b[0;32mfrom\u001b[0m \u001b[0;34m.\u001b[0m\u001b[0mduration\u001b[0m\u001b[0;34m.\u001b[0m\u001b[0mhazard_regression\u001b[0m \u001b[0;32mimport\u001b[0m \u001b[0mPHReg\u001b[0m\u001b[0;34m\u001b[0m\u001b[0;34m\u001b[0m\u001b[0m\n",
      "\u001b[0;32m~/opt/anaconda3/lib/python3.9/site-packages/statsmodels/tsa/api.py\u001b[0m in \u001b[0;36m<module>\u001b[0;34m\u001b[0m\n\u001b[1;32m     29\u001b[0m \u001b[0;32mfrom\u001b[0m \u001b[0;34m.\u001b[0m\u001b[0mvector_ar\u001b[0m\u001b[0;34m.\u001b[0m\u001b[0mvecm\u001b[0m \u001b[0;32mimport\u001b[0m \u001b[0mVECM\u001b[0m\u001b[0;34m\u001b[0m\u001b[0;34m\u001b[0m\u001b[0m\n\u001b[1;32m     30\u001b[0m \u001b[0;32mfrom\u001b[0m \u001b[0;34m.\u001b[0m\u001b[0mvector_ar\u001b[0m\u001b[0;34m.\u001b[0m\u001b[0msvar_model\u001b[0m \u001b[0;32mimport\u001b[0m \u001b[0mSVAR\u001b[0m\u001b[0;34m\u001b[0m\u001b[0;34m\u001b[0m\u001b[0m\n\u001b[0;32m---> 31\u001b[0;31m \u001b[0;32mfrom\u001b[0m \u001b[0;34m.\u001b[0m\u001b[0mfilters\u001b[0m \u001b[0;32mimport\u001b[0m \u001b[0mapi\u001b[0m \u001b[0;32mas\u001b[0m \u001b[0mfilters\u001b[0m\u001b[0;34m\u001b[0m\u001b[0;34m\u001b[0m\u001b[0m\n\u001b[0m\u001b[1;32m     32\u001b[0m \u001b[0;32mfrom\u001b[0m \u001b[0;34m.\u001b[0m \u001b[0;32mimport\u001b[0m \u001b[0mtsatools\u001b[0m\u001b[0;34m\u001b[0m\u001b[0;34m\u001b[0m\u001b[0m\n\u001b[1;32m     33\u001b[0m \u001b[0;32mfrom\u001b[0m \u001b[0;34m.\u001b[0m\u001b[0mtsatools\u001b[0m \u001b[0;32mimport\u001b[0m \u001b[0;34m(\u001b[0m\u001b[0madd_trend\u001b[0m\u001b[0;34m,\u001b[0m \u001b[0mdetrend\u001b[0m\u001b[0;34m,\u001b[0m \u001b[0mlagmat\u001b[0m\u001b[0;34m,\u001b[0m \u001b[0mlagmat2ds\u001b[0m\u001b[0;34m,\u001b[0m \u001b[0madd_lag\u001b[0m\u001b[0;34m)\u001b[0m\u001b[0;34m\u001b[0m\u001b[0;34m\u001b[0m\u001b[0m\n",
      "\u001b[0;32m~/opt/anaconda3/lib/python3.9/site-packages/statsmodels/tsa/filters/api.py\u001b[0m in \u001b[0;36m<module>\u001b[0;34m\u001b[0m\n\u001b[1;32m      4\u001b[0m \u001b[0;32mfrom\u001b[0m \u001b[0;34m.\u001b[0m\u001b[0mhp_filter\u001b[0m \u001b[0;32mimport\u001b[0m \u001b[0mhpfilter\u001b[0m\u001b[0;34m\u001b[0m\u001b[0;34m\u001b[0m\u001b[0m\n\u001b[1;32m      5\u001b[0m \u001b[0;32mfrom\u001b[0m \u001b[0;34m.\u001b[0m\u001b[0mcf_filter\u001b[0m \u001b[0;32mimport\u001b[0m \u001b[0mcffilter\u001b[0m\u001b[0;34m\u001b[0m\u001b[0;34m\u001b[0m\u001b[0m\n\u001b[0;32m----> 6\u001b[0;31m \u001b[0;32mfrom\u001b[0m \u001b[0;34m.\u001b[0m\u001b[0mfiltertools\u001b[0m \u001b[0;32mimport\u001b[0m \u001b[0mmiso_lfilter\u001b[0m\u001b[0;34m,\u001b[0m \u001b[0mconvolution_filter\u001b[0m\u001b[0;34m,\u001b[0m \u001b[0mrecursive_filter\u001b[0m\u001b[0;34m\u001b[0m\u001b[0;34m\u001b[0m\u001b[0m\n\u001b[0m",
      "\u001b[0;32m~/opt/anaconda3/lib/python3.9/site-packages/statsmodels/tsa/filters/filtertools.py\u001b[0m in \u001b[0;36m<module>\u001b[0;34m\u001b[0m\n\u001b[1;32m     16\u001b[0m \u001b[0;32mimport\u001b[0m \u001b[0mscipy\u001b[0m\u001b[0;34m.\u001b[0m\u001b[0mfftpack\u001b[0m \u001b[0;32mas\u001b[0m \u001b[0mfft\u001b[0m\u001b[0;34m\u001b[0m\u001b[0;34m\u001b[0m\u001b[0m\n\u001b[1;32m     17\u001b[0m \u001b[0;32mfrom\u001b[0m \u001b[0mscipy\u001b[0m \u001b[0;32mimport\u001b[0m \u001b[0msignal\u001b[0m\u001b[0;34m\u001b[0m\u001b[0;34m\u001b[0m\u001b[0m\n\u001b[0;32m---> 18\u001b[0;31m \u001b[0;32mfrom\u001b[0m \u001b[0mscipy\u001b[0m\u001b[0;34m.\u001b[0m\u001b[0msignal\u001b[0m\u001b[0;34m.\u001b[0m\u001b[0msignaltools\u001b[0m \u001b[0;32mimport\u001b[0m \u001b[0m_centered\u001b[0m \u001b[0;32mas\u001b[0m \u001b[0mtrim_centered\u001b[0m\u001b[0;34m\u001b[0m\u001b[0;34m\u001b[0m\u001b[0m\n\u001b[0m\u001b[1;32m     19\u001b[0m \u001b[0;34m\u001b[0m\u001b[0m\n\u001b[1;32m     20\u001b[0m \u001b[0;32mfrom\u001b[0m \u001b[0mstatsmodels\u001b[0m\u001b[0;34m.\u001b[0m\u001b[0mtools\u001b[0m\u001b[0;34m.\u001b[0m\u001b[0mvalidation\u001b[0m \u001b[0;32mimport\u001b[0m \u001b[0marray_like\u001b[0m\u001b[0;34m,\u001b[0m \u001b[0mPandasWrapper\u001b[0m\u001b[0;34m\u001b[0m\u001b[0;34m\u001b[0m\u001b[0m\n",
      "\u001b[0;31mImportError\u001b[0m: cannot import name '_centered' from 'scipy.signal.signaltools' (/Users/javierconde/opt/anaconda3/lib/python3.9/site-packages/scipy/signal/signaltools.py)"
     ]
    }
   ],
   "source": [
    "# Import all the necessary packages:\n",
    "import statsmodels.api as sm   \n",
    "import imblearn\n",
    "from imblearn.over_sampling import SMOTE  \n",
    "from sklearn.model_selection import train_test_split\n",
    "\n",
    "\n",
    "# Set the variables:\n",
    "X = df.drop('Target', axis = 1)\n",
    "y = df['Target']\n",
    "\n",
    "# Apply SMOTE as the target variable is not balanced.\n",
    "os = SMOTE(random_state=0)\n",
    "X_train, X_test, y_train, y_test = train_test_split(X, y, test_size=0.3, random_state=0)\n",
    "\n",
    "# Specify the new data sets.\n",
    "os_data_X, os_data_y = os.fit_resample(X_train, y_train)  \n",
    "\n",
    "# Create two DataFrames for X and one for y:\n",
    "os_data_X = pd.DataFrame(data = os_data_X, columns = X.columns) \n",
    "\n",
    "os_data_y = pd.DataFrame(data = os_data_y, columns = ['Target'])\n",
    "\n",
    "# View DataFrame\n",
    "print(os_data_X.head())\n",
    "os_data_y.head()"
   ]
  },
  {
   "cell_type": "code",
   "execution_count": 61,
   "id": "b6a0b29f",
   "metadata": {},
   "outputs": [
    {
     "ename": "NameError",
     "evalue": "name 'os_data_y' is not defined",
     "output_type": "error",
     "traceback": [
      "\u001b[0;31m---------------------------------------------------------------------------\u001b[0m",
      "\u001b[0;31mNameError\u001b[0m                                 Traceback (most recent call last)",
      "\u001b[0;32m/var/folders/_k/8h4zfdrd3qgd4kzz6qhbbzyh0000gn/T/ipykernel_84884/122835604.py\u001b[0m in \u001b[0;36m<module>\u001b[0;34m\u001b[0m\n\u001b[1;32m      1\u001b[0m \u001b[0;31m# Determine if values in a column are balanced by counting the values.\u001b[0m\u001b[0;34m\u001b[0m\u001b[0;34m\u001b[0m\u001b[0m\n\u001b[0;32m----> 2\u001b[0;31m \u001b[0mos_data_y\u001b[0m\u001b[0;34m[\u001b[0m\u001b[0;34m'Target'\u001b[0m\u001b[0;34m]\u001b[0m\u001b[0;34m.\u001b[0m\u001b[0mvalue_counts\u001b[0m\u001b[0;34m(\u001b[0m\u001b[0;34m)\u001b[0m\u001b[0;34m\u001b[0m\u001b[0;34m\u001b[0m\u001b[0m\n\u001b[0m",
      "\u001b[0;31mNameError\u001b[0m: name 'os_data_y' is not defined"
     ]
    }
   ],
   "source": [
    "# Determine if values in a column are balanced by counting the values.\n",
    "os_data_y['Target'].value_counts()"
   ]
  },
  {
   "cell_type": "code",
   "execution_count": 62,
   "id": "77eeacc2",
   "metadata": {},
   "outputs": [
    {
     "ename": "NameError",
     "evalue": "name 'os_data_y' is not defined",
     "output_type": "error",
     "traceback": [
      "\u001b[0;31m---------------------------------------------------------------------------\u001b[0m",
      "\u001b[0;31mNameError\u001b[0m                                 Traceback (most recent call last)",
      "\u001b[0;32m/var/folders/_k/8h4zfdrd3qgd4kzz6qhbbzyh0000gn/T/ipykernel_84884/485741583.py\u001b[0m in \u001b[0;36m<module>\u001b[0;34m\u001b[0m\n\u001b[1;32m      2\u001b[0m \u001b[0;34m\u001b[0m\u001b[0m\n\u001b[1;32m      3\u001b[0m \u001b[0msns\u001b[0m\u001b[0;34m.\u001b[0m\u001b[0mset_theme\u001b[0m\u001b[0;34m(\u001b[0m\u001b[0mstyle\u001b[0m \u001b[0;34m=\u001b[0m\u001b[0;34m'darkgrid'\u001b[0m\u001b[0;34m)\u001b[0m\u001b[0;34m\u001b[0m\u001b[0;34m\u001b[0m\u001b[0m\n\u001b[0;32m----> 4\u001b[0;31m \u001b[0max\u001b[0m \u001b[0;34m=\u001b[0m \u001b[0msns\u001b[0m\u001b[0;34m.\u001b[0m\u001b[0mcountplot\u001b[0m\u001b[0;34m(\u001b[0m\u001b[0mx\u001b[0m \u001b[0;34m=\u001b[0m\u001b[0;34m'Target'\u001b[0m\u001b[0;34m,\u001b[0m \u001b[0mdata\u001b[0m \u001b[0;34m=\u001b[0m \u001b[0mos_data_y\u001b[0m\u001b[0;34m)\u001b[0m\u001b[0;34m\u001b[0m\u001b[0;34m\u001b[0m\u001b[0m\n\u001b[0m\u001b[1;32m      5\u001b[0m \u001b[0max\u001b[0m\u001b[0;34m.\u001b[0m\u001b[0mset_title\u001b[0m\u001b[0;34m(\u001b[0m\u001b[0;34m\"New Balanced Target\"\u001b[0m\u001b[0;34m)\u001b[0m\u001b[0;34m\u001b[0m\u001b[0;34m\u001b[0m\u001b[0m\n",
      "\u001b[0;31mNameError\u001b[0m: name 'os_data_y' is not defined"
     ]
    }
   ],
   "source": [
    "# And we visualise it \n",
    "\n",
    "sns.set_theme(style ='darkgrid')\n",
    "ax = sns.countplot(x ='Target', data = os_data_y)\n",
    "ax.set_title(\"New Balanced Target\")"
   ]
  },
  {
   "cell_type": "markdown",
   "id": "82d5eb8f",
   "metadata": {},
   "source": [
    "### 2.1.5 Worked example III: Checking the logistic regression assumptions (Cont.)"
   ]
  },
  {
   "cell_type": "code",
   "execution_count": null,
   "id": "ed79781b",
   "metadata": {},
   "outputs": [],
   "source": [
    "# We now continue checking the two assumptions left: 4 (multicollinearity) and 5\n",
    "# (Independent variables linearly related to the log odds)"
   ]
  },
  {
   "cell_type": "code",
   "execution_count": 63,
   "id": "5f1ab9a8",
   "metadata": {},
   "outputs": [
    {
     "data": {
      "text/plain": [
       "'Note that a VIF<10 indicates limited to no correlation between independent variables. The closer the VIF is to 1, \\nthe less correlation between independent variables. However, a VIF>10 indicates a multicollinearity problem due to \\nstrong correlations. '"
      ]
     },
     "execution_count": 63,
     "metadata": {},
     "output_type": "execute_result"
    }
   ],
   "source": [
    "# We study co-multillinearity with Variance Inflation Factor (VIF)\n",
    "\n",
    "\"\"\"Note that a VIF<10 indicates limited to no correlation between independent variables. The closer the VIF is to 1, \n",
    "the less correlation between independent variables. However, a VIF>10 indicates a multicollinearity problem due to \n",
    "strong correlations. \"\"\""
   ]
  },
  {
   "cell_type": "code",
   "execution_count": 64,
   "id": "61e47a6e",
   "metadata": {},
   "outputs": [],
   "source": [
    "# Import the VIF package.\n",
    "from statsmodels.stats.outliers_influence import variance_inflation_factor"
   ]
  },
  {
   "cell_type": "code",
   "execution_count": 65,
   "id": "07104a01",
   "metadata": {},
   "outputs": [],
   "source": [
    "# Create a VIF dataframe.\n",
    "vif_data = pd.DataFrame()\n",
    "vif_data['feature'] = df.columns"
   ]
  },
  {
   "cell_type": "code",
   "execution_count": 66,
   "id": "da3b19bc",
   "metadata": {},
   "outputs": [],
   "source": [
    "# Calculate VIF for each feature.\n",
    "vif_data['VIF'] = [variance_inflation_factor(df.values, i)\n",
    "                          for i in range(len(df.columns))]"
   ]
  },
  {
   "cell_type": "code",
   "execution_count": 67,
   "id": "6f00826c",
   "metadata": {},
   "outputs": [
    {
     "data": {
      "text/html": [
       "<div>\n",
       "<style scoped>\n",
       "    .dataframe tbody tr th:only-of-type {\n",
       "        vertical-align: middle;\n",
       "    }\n",
       "\n",
       "    .dataframe tbody tr th {\n",
       "        vertical-align: top;\n",
       "    }\n",
       "\n",
       "    .dataframe thead th {\n",
       "        text-align: right;\n",
       "    }\n",
       "</style>\n",
       "<table border=\"1\" class=\"dataframe\">\n",
       "  <thead>\n",
       "    <tr style=\"text-align: right;\">\n",
       "      <th></th>\n",
       "      <th>feature</th>\n",
       "      <th>VIF</th>\n",
       "    </tr>\n",
       "  </thead>\n",
       "  <tbody>\n",
       "    <tr>\n",
       "      <th>0</th>\n",
       "      <td>Age</td>\n",
       "      <td>18.783790</td>\n",
       "    </tr>\n",
       "    <tr>\n",
       "      <th>1</th>\n",
       "      <td>Occupation</td>\n",
       "      <td>5.169369</td>\n",
       "    </tr>\n",
       "    <tr>\n",
       "      <th>2</th>\n",
       "      <td>Status</td>\n",
       "      <td>9.154831</td>\n",
       "    </tr>\n",
       "    <tr>\n",
       "      <th>3</th>\n",
       "      <td>Edu</td>\n",
       "      <td>5.084178</td>\n",
       "    </tr>\n",
       "    <tr>\n",
       "      <th>4</th>\n",
       "      <td>House</td>\n",
       "      <td>2.206817</td>\n",
       "    </tr>\n",
       "    <tr>\n",
       "      <th>5</th>\n",
       "      <td>Loan</td>\n",
       "      <td>1.207593</td>\n",
       "    </tr>\n",
       "    <tr>\n",
       "      <th>6</th>\n",
       "      <td>Comm</td>\n",
       "      <td>3.863707</td>\n",
       "    </tr>\n",
       "    <tr>\n",
       "      <th>7</th>\n",
       "      <td>Month</td>\n",
       "      <td>7.971358</td>\n",
       "    </tr>\n",
       "    <tr>\n",
       "      <th>8</th>\n",
       "      <td>DOW</td>\n",
       "      <td>2.975899</td>\n",
       "    </tr>\n",
       "    <tr>\n",
       "      <th>9</th>\n",
       "      <td>Duration</td>\n",
       "      <td>2.451436</td>\n",
       "    </tr>\n",
       "    <tr>\n",
       "      <th>10</th>\n",
       "      <td>Campaign</td>\n",
       "      <td>1.928530</td>\n",
       "    </tr>\n",
       "    <tr>\n",
       "      <th>11</th>\n",
       "      <td>PosDays</td>\n",
       "      <td>69.208829</td>\n",
       "    </tr>\n",
       "    <tr>\n",
       "      <th>12</th>\n",
       "      <td>Last_out</td>\n",
       "      <td>3.107406</td>\n",
       "    </tr>\n",
       "    <tr>\n",
       "      <th>13</th>\n",
       "      <td>Var_rate</td>\n",
       "      <td>40.800630</td>\n",
       "    </tr>\n",
       "    <tr>\n",
       "      <th>14</th>\n",
       "      <td>Price_idx</td>\n",
       "      <td>34171.450375</td>\n",
       "    </tr>\n",
       "    <tr>\n",
       "      <th>15</th>\n",
       "      <td>Conf_idx</td>\n",
       "      <td>123.028364</td>\n",
       "    </tr>\n",
       "    <tr>\n",
       "      <th>16</th>\n",
       "      <td>Month_rate</td>\n",
       "      <td>357.016602</td>\n",
       "    </tr>\n",
       "    <tr>\n",
       "      <th>17</th>\n",
       "      <td>Quarterly_emp</td>\n",
       "      <td>39898.724238</td>\n",
       "    </tr>\n",
       "    <tr>\n",
       "      <th>18</th>\n",
       "      <td>Target</td>\n",
       "      <td>1.692424</td>\n",
       "    </tr>\n",
       "  </tbody>\n",
       "</table>\n",
       "</div>"
      ],
      "text/plain": [
       "          feature           VIF\n",
       "0             Age     18.783790\n",
       "1      Occupation      5.169369\n",
       "2          Status      9.154831\n",
       "3             Edu      5.084178\n",
       "4           House      2.206817\n",
       "5            Loan      1.207593\n",
       "6            Comm      3.863707\n",
       "7           Month      7.971358\n",
       "8             DOW      2.975899\n",
       "9        Duration      2.451436\n",
       "10       Campaign      1.928530\n",
       "11        PosDays     69.208829\n",
       "12       Last_out      3.107406\n",
       "13       Var_rate     40.800630\n",
       "14      Price_idx  34171.450375\n",
       "15       Conf_idx    123.028364\n",
       "16     Month_rate    357.016602\n",
       "17  Quarterly_emp  39898.724238\n",
       "18         Target      1.692424"
      ]
     },
     "execution_count": 67,
     "metadata": {},
     "output_type": "execute_result"
    }
   ],
   "source": [
    "# View the output.\n",
    "vif_data"
   ]
  },
  {
   "cell_type": "code",
   "execution_count": null,
   "id": "b0f90c64",
   "metadata": {},
   "outputs": [],
   "source": [
    "# The values of Duration, Campaign and Target are less than 10 (even <5) indicating no correlation between \n",
    "#these independent variables."
   ]
  },
  {
   "cell_type": "code",
   "execution_count": 68,
   "id": "1e02dc62",
   "metadata": {},
   "outputs": [
    {
     "name": "stdout",
     "output_type": "stream",
     "text": [
      "(41188, 17)\n"
     ]
    },
    {
     "data": {
      "text/html": [
       "<div>\n",
       "<style scoped>\n",
       "    .dataframe tbody tr th:only-of-type {\n",
       "        vertical-align: middle;\n",
       "    }\n",
       "\n",
       "    .dataframe tbody tr th {\n",
       "        vertical-align: top;\n",
       "    }\n",
       "\n",
       "    .dataframe thead th {\n",
       "        text-align: right;\n",
       "    }\n",
       "</style>\n",
       "<table border=\"1\" class=\"dataframe\">\n",
       "  <thead>\n",
       "    <tr style=\"text-align: right;\">\n",
       "      <th></th>\n",
       "      <th>Age</th>\n",
       "      <th>Occupation</th>\n",
       "      <th>Status</th>\n",
       "      <th>Edu</th>\n",
       "      <th>House</th>\n",
       "      <th>Loan</th>\n",
       "      <th>Comm</th>\n",
       "      <th>Month</th>\n",
       "      <th>DOW</th>\n",
       "      <th>Duration</th>\n",
       "      <th>Campaign</th>\n",
       "      <th>PosDays</th>\n",
       "      <th>Last_out</th>\n",
       "      <th>Var_rate</th>\n",
       "      <th>Conf_idx</th>\n",
       "      <th>Month_rate</th>\n",
       "      <th>Target</th>\n",
       "    </tr>\n",
       "  </thead>\n",
       "  <tbody>\n",
       "    <tr>\n",
       "      <th>0</th>\n",
       "      <td>44</td>\n",
       "      <td>3</td>\n",
       "      <td>3</td>\n",
       "      <td>1</td>\n",
       "      <td>2</td>\n",
       "      <td>0</td>\n",
       "      <td>0</td>\n",
       "      <td>5</td>\n",
       "      <td>3</td>\n",
       "      <td>210</td>\n",
       "      <td>1</td>\n",
       "      <td>999</td>\n",
       "      <td>0</td>\n",
       "      <td>1.4</td>\n",
       "      <td>-36.1</td>\n",
       "      <td>4.963</td>\n",
       "      <td>0</td>\n",
       "    </tr>\n",
       "    <tr>\n",
       "      <th>1</th>\n",
       "      <td>53</td>\n",
       "      <td>4</td>\n",
       "      <td>3</td>\n",
       "      <td>0</td>\n",
       "      <td>0</td>\n",
       "      <td>0</td>\n",
       "      <td>0</td>\n",
       "      <td>8</td>\n",
       "      <td>4</td>\n",
       "      <td>138</td>\n",
       "      <td>1</td>\n",
       "      <td>999</td>\n",
       "      <td>0</td>\n",
       "      <td>-0.1</td>\n",
       "      <td>-42.0</td>\n",
       "      <td>4.021</td>\n",
       "      <td>0</td>\n",
       "    </tr>\n",
       "    <tr>\n",
       "      <th>2</th>\n",
       "      <td>28</td>\n",
       "      <td>10</td>\n",
       "      <td>1</td>\n",
       "      <td>3</td>\n",
       "      <td>2</td>\n",
       "      <td>0</td>\n",
       "      <td>0</td>\n",
       "      <td>3</td>\n",
       "      <td>3</td>\n",
       "      <td>339</td>\n",
       "      <td>3</td>\n",
       "      <td>6</td>\n",
       "      <td>2</td>\n",
       "      <td>-1.7</td>\n",
       "      <td>-39.8</td>\n",
       "      <td>0.729</td>\n",
       "      <td>1</td>\n",
       "    </tr>\n",
       "    <tr>\n",
       "      <th>3</th>\n",
       "      <td>39</td>\n",
       "      <td>11</td>\n",
       "      <td>3</td>\n",
       "      <td>2</td>\n",
       "      <td>0</td>\n",
       "      <td>0</td>\n",
       "      <td>0</td>\n",
       "      <td>1</td>\n",
       "      <td>4</td>\n",
       "      <td>185</td>\n",
       "      <td>2</td>\n",
       "      <td>999</td>\n",
       "      <td>0</td>\n",
       "      <td>-1.8</td>\n",
       "      <td>-47.1</td>\n",
       "      <td>1.405</td>\n",
       "      <td>0</td>\n",
       "    </tr>\n",
       "    <tr>\n",
       "      <th>4</th>\n",
       "      <td>55</td>\n",
       "      <td>7</td>\n",
       "      <td>3</td>\n",
       "      <td>1</td>\n",
       "      <td>2</td>\n",
       "      <td>0</td>\n",
       "      <td>0</td>\n",
       "      <td>5</td>\n",
       "      <td>4</td>\n",
       "      <td>137</td>\n",
       "      <td>1</td>\n",
       "      <td>3</td>\n",
       "      <td>2</td>\n",
       "      <td>-2.9</td>\n",
       "      <td>-31.4</td>\n",
       "      <td>0.869</td>\n",
       "      <td>1</td>\n",
       "    </tr>\n",
       "  </tbody>\n",
       "</table>\n",
       "</div>"
      ],
      "text/plain": [
       "   Age  Occupation  Status  Edu  House  Loan  Comm  Month  DOW  Duration  \\\n",
       "0   44           3       3    1      2     0     0      5    3       210   \n",
       "1   53           4       3    0      0     0     0      8    4       138   \n",
       "2   28          10       1    3      2     0     0      3    3       339   \n",
       "3   39          11       3    2      0     0     0      1    4       185   \n",
       "4   55           7       3    1      2     0     0      5    4       137   \n",
       "\n",
       "   Campaign  PosDays  Last_out  Var_rate  Conf_idx  Month_rate  Target  \n",
       "0         1      999         0       1.4     -36.1       4.963       0  \n",
       "1         1      999         0      -0.1     -42.0       4.021       0  \n",
       "2         3        6         2      -1.7     -39.8       0.729       1  \n",
       "3         2      999         0      -1.8     -47.1       1.405       0  \n",
       "4         1        3         2      -2.9     -31.4       0.869       1  "
      ]
     },
     "execution_count": 68,
     "metadata": {},
     "output_type": "execute_result"
    }
   ],
   "source": [
    "# Droping the columns with VIF > 10 to avoid multicollinearity problems.\n",
    "df = df.drop(['Price_idx', 'Quarterly_emp'], axis = 1)\n",
    "\n",
    "# View the DataFrame.\n",
    "print(df.shape)\n",
    "df.head()"
   ]
  },
  {
   "cell_type": "code",
   "execution_count": 69,
   "id": "5916e909",
   "metadata": {},
   "outputs": [],
   "source": [
    "# These two columns have been dropped."
   ]
  },
  {
   "cell_type": "markdown",
   "id": "ed7c6328",
   "metadata": {},
   "source": [
    "The Box-Tidwell test can be used to explore whether the independent variables () are linearly related to the log odds (Assumption 5). However, the Box-Tidwell test is only applicable to continuous variables. Since we only have one continuous column left, we can do a visual check of the linearity with log odds using this column. When having multiple continuous columns or when we can’t visually see the linear relationship, it’s better to use Box-Tidwell test.  "
   ]
  },
  {
   "cell_type": "code",
   "execution_count": 70,
   "id": "9698d7d9",
   "metadata": {},
   "outputs": [
    {
     "data": {
      "image/png": "[encoded data removed]",
      "text/plain": [
       "<Figure size 432x288 with 1 Axes>"
      ]
     },
     "metadata": {},
     "output_type": "display_data"
    }
   ],
   "source": [
    "# We are plotting looking for a S-shaped curve.\n",
    "\n",
    "dur = sns.regplot(x = 'Duration', y= 'Target', data= df,\n",
    "                  logistic= True).set_title(\"Duration Log Odds Linear Plot\")"
   ]
  },
  {
   "cell_type": "code",
   "execution_count": 73,
   "id": "6b44f636",
   "metadata": {},
   "outputs": [
    {
     "name": "stdout",
     "output_type": "stream",
     "text": [
      "Optimization terminated successfully.\n",
      "         Current function value: 0.222768\n",
      "         Iterations 8\n"
     ]
    },
    {
     "data": {
      "text/html": [
       "<table class=\"simpletable\">\n",
       "<caption>Logit Regression Results</caption>\n",
       "<tr>\n",
       "  <th>Dep. Variable:</th>        <td>Target</td>      <th>  No. Observations:  </th>  <td> 41188</td> \n",
       "</tr>\n",
       "<tr>\n",
       "  <th>Model:</th>                 <td>Logit</td>      <th>  Df Residuals:      </th>  <td> 41172</td> \n",
       "</tr>\n",
       "<tr>\n",
       "  <th>Method:</th>                 <td>MLE</td>       <th>  Df Model:          </th>  <td>    15</td> \n",
       "</tr>\n",
       "<tr>\n",
       "  <th>Date:</th>            <td>Thu, 21 Jul 2022</td> <th>  Pseudo R-squ.:     </th>  <td>0.3672</td> \n",
       "</tr>\n",
       "<tr>\n",
       "  <th>Time:</th>                <td>22:09:53</td>     <th>  Log-Likelihood:    </th> <td> -9175.4</td>\n",
       "</tr>\n",
       "<tr>\n",
       "  <th>converged:</th>             <td>True</td>       <th>  LL-Null:           </th> <td> -14499.</td>\n",
       "</tr>\n",
       "<tr>\n",
       "  <th>Covariance Type:</th>     <td>nonrobust</td>    <th>  LLR p-value:       </th>  <td> 0.000</td> \n",
       "</tr>\n",
       "</table>\n",
       "<table class=\"simpletable\">\n",
       "<tr>\n",
       "       <td></td>         <th>coef</th>     <th>std err</th>      <th>z</th>      <th>P>|z|</th>  <th>[0.025</th>    <th>0.975]</th>  \n",
       "</tr>\n",
       "<tr>\n",
       "  <th>Age</th>        <td>    0.0125</td> <td>    0.002</td> <td>    7.237</td> <td> 0.000</td> <td>    0.009</td> <td>    0.016</td>\n",
       "</tr>\n",
       "<tr>\n",
       "  <th>Occupation</th> <td>    0.0004</td> <td>    0.007</td> <td>    0.058</td> <td> 0.954</td> <td>   -0.014</td> <td>    0.014</td>\n",
       "</tr>\n",
       "<tr>\n",
       "  <th>Status</th>     <td>   -0.1148</td> <td>    0.023</td> <td>   -4.922</td> <td> 0.000</td> <td>   -0.160</td> <td>   -0.069</td>\n",
       "</tr>\n",
       "<tr>\n",
       "  <th>Edu</th>        <td>    0.1352</td> <td>    0.018</td> <td>    7.641</td> <td> 0.000</td> <td>    0.101</td> <td>    0.170</td>\n",
       "</tr>\n",
       "<tr>\n",
       "  <th>House</th>      <td>    0.0069</td> <td>    0.020</td> <td>    0.347</td> <td> 0.728</td> <td>   -0.032</td> <td>    0.046</td>\n",
       "</tr>\n",
       "<tr>\n",
       "  <th>Loan</th>       <td>   -0.0280</td> <td>    0.027</td> <td>   -1.025</td> <td> 0.305</td> <td>   -0.082</td> <td>    0.026</td>\n",
       "</tr>\n",
       "<tr>\n",
       "  <th>Comm</th>       <td>   -0.2290</td> <td>    0.056</td> <td>   -4.086</td> <td> 0.000</td> <td>   -0.339</td> <td>   -0.119</td>\n",
       "</tr>\n",
       "<tr>\n",
       "  <th>Month</th>      <td>    0.0683</td> <td>    0.010</td> <td>    6.583</td> <td> 0.000</td> <td>    0.048</td> <td>    0.089</td>\n",
       "</tr>\n",
       "<tr>\n",
       "  <th>DOW</th>        <td>    0.0179</td> <td>    0.014</td> <td>    1.301</td> <td> 0.193</td> <td>   -0.009</td> <td>    0.045</td>\n",
       "</tr>\n",
       "<tr>\n",
       "  <th>Duration</th>   <td>    0.0046</td> <td> 7.14e-05</td> <td>   63.865</td> <td> 0.000</td> <td>    0.004</td> <td>    0.005</td>\n",
       "</tr>\n",
       "<tr>\n",
       "  <th>Campaign</th>   <td>   -0.0358</td> <td>    0.011</td> <td>   -3.200</td> <td> 0.001</td> <td>   -0.058</td> <td>   -0.014</td>\n",
       "</tr>\n",
       "<tr>\n",
       "  <th>PosDays</th>    <td>   -0.0020</td> <td>    0.000</td> <td>  -18.455</td> <td> 0.000</td> <td>   -0.002</td> <td>   -0.002</td>\n",
       "</tr>\n",
       "<tr>\n",
       "  <th>Last_out</th>   <td>   -0.2079</td> <td>    0.052</td> <td>   -4.000</td> <td> 0.000</td> <td>   -0.310</td> <td>   -0.106</td>\n",
       "</tr>\n",
       "<tr>\n",
       "  <th>Var_rate</th>   <td>   -0.0972</td> <td>    0.036</td> <td>   -2.713</td> <td> 0.007</td> <td>   -0.167</td> <td>   -0.027</td>\n",
       "</tr>\n",
       "<tr>\n",
       "  <th>Conf_idx</th>   <td>    0.0250</td> <td>    0.003</td> <td>    9.088</td> <td> 0.000</td> <td>    0.020</td> <td>    0.030</td>\n",
       "</tr>\n",
       "<tr>\n",
       "  <th>Month_rate</th> <td>   -0.5066</td> <td>    0.035</td> <td>  -14.426</td> <td> 0.000</td> <td>   -0.575</td> <td>   -0.438</td>\n",
       "</tr>\n",
       "</table>"
      ],
      "text/plain": [
       "<class 'statsmodels.iolib.summary.Summary'>\n",
       "\"\"\"\n",
       "                           Logit Regression Results                           \n",
       "==============================================================================\n",
       "Dep. Variable:                 Target   No. Observations:                41188\n",
       "Model:                          Logit   Df Residuals:                    41172\n",
       "Method:                           MLE   Df Model:                           15\n",
       "Date:                Thu, 21 Jul 2022   Pseudo R-squ.:                  0.3672\n",
       "Time:                        22:09:53   Log-Likelihood:                -9175.4\n",
       "converged:                       True   LL-Null:                       -14499.\n",
       "Covariance Type:            nonrobust   LLR p-value:                     0.000\n",
       "==============================================================================\n",
       "                 coef    std err          z      P>|z|      [0.025      0.975]\n",
       "------------------------------------------------------------------------------\n",
       "Age            0.0125      0.002      7.237      0.000       0.009       0.016\n",
       "Occupation     0.0004      0.007      0.058      0.954      -0.014       0.014\n",
       "Status        -0.1148      0.023     -4.922      0.000      -0.160      -0.069\n",
       "Edu            0.1352      0.018      7.641      0.000       0.101       0.170\n",
       "House          0.0069      0.020      0.347      0.728      -0.032       0.046\n",
       "Loan          -0.0280      0.027     -1.025      0.305      -0.082       0.026\n",
       "Comm          -0.2290      0.056     -4.086      0.000      -0.339      -0.119\n",
       "Month          0.0683      0.010      6.583      0.000       0.048       0.089\n",
       "DOW            0.0179      0.014      1.301      0.193      -0.009       0.045\n",
       "Duration       0.0046   7.14e-05     63.865      0.000       0.004       0.005\n",
       "Campaign      -0.0358      0.011     -3.200      0.001      -0.058      -0.014\n",
       "PosDays       -0.0020      0.000    -18.455      0.000      -0.002      -0.002\n",
       "Last_out      -0.2079      0.052     -4.000      0.000      -0.310      -0.106\n",
       "Var_rate      -0.0972      0.036     -2.713      0.007      -0.167      -0.027\n",
       "Conf_idx       0.0250      0.003      9.088      0.000       0.020       0.030\n",
       "Month_rate    -0.5066      0.035    -14.426      0.000      -0.575      -0.438\n",
       "==============================================================================\n",
       "\"\"\""
      ]
     },
     "execution_count": 73,
     "metadata": {},
     "output_type": "execute_result"
    }
   ],
   "source": [
    "# Name the new DataFrame and specify all the columns for BLR:\n",
    "nec_cols = df.drop('Target', axis = 1).columns\n",
    "\n",
    "# Set the independent variable.\n",
    "X = df[nec_cols]  \n",
    "\n",
    "# Set the dependent variable.\n",
    "y = df['Target']  \n",
    "\n",
    "# Set the logit() to accept y and x as parameters and return the logit object:\n",
    "logit_model=sm.Logit(y, X)\n",
    "\n",
    "# Indicate result = logit_model.fit() function.\n",
    "result = logit_model.fit()  \n",
    "\n",
    "# Print the results.\n",
    "result.summary()"
   ]
  },
  {
   "cell_type": "code",
   "execution_count": 80,
   "id": "de917a17",
   "metadata": {},
   "outputs": [
    {
     "ename": "ImportError",
     "evalue": "cannot import name '_is_constant_feature' from 'sklearn.preprocessing._data' (/Users/javierconde/opt/anaconda3/lib/python3.9/site-packages/sklearn/preprocessing/_data.py)",
     "output_type": "error",
     "traceback": [
      "\u001b[0;31m---------------------------------------------------------------------------\u001b[0m",
      "\u001b[0;31mImportError\u001b[0m                               Traceback (most recent call last)",
      "\u001b[0;32m/var/folders/_k/8h4zfdrd3qgd4kzz6qhbbzyh0000gn/T/ipykernel_84884/2928324198.py\u001b[0m in \u001b[0;36m<module>\u001b[0;34m\u001b[0m\n\u001b[1;32m      2\u001b[0m \u001b[0;34m\u001b[0m\u001b[0m\n\u001b[1;32m      3\u001b[0m \u001b[0;31m# Import necessary packages:\u001b[0m\u001b[0;34m\u001b[0m\u001b[0;34m\u001b[0m\u001b[0m\n\u001b[0;32m----> 4\u001b[0;31m \u001b[0;32mfrom\u001b[0m \u001b[0msklearn\u001b[0m\u001b[0;34m.\u001b[0m\u001b[0mlinear_model\u001b[0m \u001b[0;32mimport\u001b[0m \u001b[0mLogisticRegression\u001b[0m\u001b[0;34m\u001b[0m\u001b[0;34m\u001b[0m\u001b[0m\n\u001b[0m\u001b[1;32m      5\u001b[0m \u001b[0;32mfrom\u001b[0m \u001b[0msklearn\u001b[0m \u001b[0;32mimport\u001b[0m \u001b[0mmetrics\u001b[0m\u001b[0;34m\u001b[0m\u001b[0;34m\u001b[0m\u001b[0m\n",
      "\u001b[0;32m~/opt/anaconda3/lib/python3.9/site-packages/sklearn/linear_model/__init__.py\u001b[0m in \u001b[0;36m<module>\u001b[0;34m\u001b[0m\n\u001b[1;32m      7\u001b[0m \u001b[0;31m# complete documentation.\u001b[0m\u001b[0;34m\u001b[0m\u001b[0;34m\u001b[0m\u001b[0m\n\u001b[1;32m      8\u001b[0m \u001b[0;34m\u001b[0m\u001b[0m\n\u001b[0;32m----> 9\u001b[0;31m \u001b[0;32mfrom\u001b[0m \u001b[0;34m.\u001b[0m\u001b[0m_base\u001b[0m \u001b[0;32mimport\u001b[0m \u001b[0mLinearRegression\u001b[0m\u001b[0;34m\u001b[0m\u001b[0;34m\u001b[0m\u001b[0m\n\u001b[0m\u001b[1;32m     10\u001b[0m \u001b[0;32mfrom\u001b[0m \u001b[0;34m.\u001b[0m\u001b[0m_bayes\u001b[0m \u001b[0;32mimport\u001b[0m \u001b[0mBayesianRidge\u001b[0m\u001b[0;34m,\u001b[0m \u001b[0mARDRegression\u001b[0m\u001b[0;34m\u001b[0m\u001b[0;34m\u001b[0m\u001b[0m\n\u001b[1;32m     11\u001b[0m from ._least_angle import (\n",
      "\u001b[0;32m~/opt/anaconda3/lib/python3.9/site-packages/sklearn/linear_model/_base.py\u001b[0m in \u001b[0;36m<module>\u001b[0;34m\u001b[0m\n\u001b[1;32m     29\u001b[0m \u001b[0;34m\u001b[0m\u001b[0m\n\u001b[1;32m     30\u001b[0m \u001b[0;32mfrom\u001b[0m \u001b[0;34m.\u001b[0m\u001b[0;34m.\u001b[0m\u001b[0mbase\u001b[0m \u001b[0;32mimport\u001b[0m \u001b[0mBaseEstimator\u001b[0m\u001b[0;34m,\u001b[0m \u001b[0mClassifierMixin\u001b[0m\u001b[0;34m,\u001b[0m \u001b[0mRegressorMixin\u001b[0m\u001b[0;34m,\u001b[0m \u001b[0mMultiOutputMixin\u001b[0m\u001b[0;34m\u001b[0m\u001b[0;34m\u001b[0m\u001b[0m\n\u001b[0;32m---> 31\u001b[0;31m \u001b[0;32mfrom\u001b[0m \u001b[0;34m.\u001b[0m\u001b[0;34m.\u001b[0m\u001b[0mpreprocessing\u001b[0m\u001b[0;34m.\u001b[0m\u001b[0m_data\u001b[0m \u001b[0;32mimport\u001b[0m \u001b[0m_is_constant_feature\u001b[0m\u001b[0;34m\u001b[0m\u001b[0;34m\u001b[0m\u001b[0m\n\u001b[0m\u001b[1;32m     32\u001b[0m \u001b[0;32mfrom\u001b[0m \u001b[0;34m.\u001b[0m\u001b[0;34m.\u001b[0m\u001b[0mutils\u001b[0m \u001b[0;32mimport\u001b[0m \u001b[0mcheck_array\u001b[0m\u001b[0;34m\u001b[0m\u001b[0;34m\u001b[0m\u001b[0m\n\u001b[1;32m     33\u001b[0m \u001b[0;32mfrom\u001b[0m \u001b[0;34m.\u001b[0m\u001b[0;34m.\u001b[0m\u001b[0mutils\u001b[0m\u001b[0;34m.\u001b[0m\u001b[0mvalidation\u001b[0m \u001b[0;32mimport\u001b[0m \u001b[0mFLOAT_DTYPES\u001b[0m\u001b[0;34m\u001b[0m\u001b[0;34m\u001b[0m\u001b[0m\n",
      "\u001b[0;31mImportError\u001b[0m: cannot import name '_is_constant_feature' from 'sklearn.preprocessing._data' (/Users/javierconde/opt/anaconda3/lib/python3.9/site-packages/sklearn/preprocessing/_data.py)"
     ]
    }
   ],
   "source": [
    "# Now we need to check the accuracy of this model\n",
    "\n",
    "# Import necessary packages:\n",
    "from sklearn.linear_model import LogisticRegression\n",
    "from sklearn import metrics"
   ]
  },
  {
   "cell_type": "code",
   "execution_count": 81,
   "id": "3ab5d32e",
   "metadata": {},
   "outputs": [
    {
     "ename": "NameError",
     "evalue": "name 'train_test_split' is not defined",
     "output_type": "error",
     "traceback": [
      "\u001b[0;31m---------------------------------------------------------------------------\u001b[0m",
      "\u001b[0;31mNameError\u001b[0m                                 Traceback (most recent call last)",
      "\u001b[0;32m/var/folders/_k/8h4zfdrd3qgd4kzz6qhbbzyh0000gn/T/ipykernel_84884/1168702001.py\u001b[0m in \u001b[0;36m<module>\u001b[0;34m\u001b[0m\n\u001b[1;32m      1\u001b[0m \u001b[0;31m# Split X and y data sets into ‘train’ and ‘test’ in a 30:70 ratio:\u001b[0m\u001b[0;34m\u001b[0m\u001b[0;34m\u001b[0m\u001b[0m\n\u001b[0;32m----> 2\u001b[0;31m X_train, X_test, y_train, y_test = train_test_split(X, y, test_size=0.3,\n\u001b[0m\u001b[1;32m      3\u001b[0m                                                     random_state=0)\n\u001b[1;32m      4\u001b[0m \u001b[0;34m\u001b[0m\u001b[0m\n\u001b[1;32m      5\u001b[0m \u001b[0;31m# Set LogisticRegression() to logreg.\u001b[0m\u001b[0;34m\u001b[0m\u001b[0;34m\u001b[0m\u001b[0m\n",
      "\u001b[0;31mNameError\u001b[0m: name 'train_test_split' is not defined"
     ]
    }
   ],
   "source": [
    "# Split X and y data sets into ‘train’ and ‘test’ in a 30:70 ratio:\n",
    "X_train, X_test, y_train, y_test = train_test_split(X, y, test_size=0.3,\n",
    "                                                    random_state=0)\n",
    "\n",
    "# Set LogisticRegression() to logreg.\n",
    "logreg = LogisticRegression() \n",
    "\n",
    "# Fit the X_train and y_train data sets to logreg. \n",
    "logreg.fit(X_train, y_train)"
   ]
  },
  {
   "cell_type": "code",
   "execution_count": 82,
   "id": "d395a6e7",
   "metadata": {},
   "outputs": [
    {
     "ename": "NameError",
     "evalue": "name 'logreg' is not defined",
     "output_type": "error",
     "traceback": [
      "\u001b[0;31m---------------------------------------------------------------------------\u001b[0m",
      "\u001b[0;31mNameError\u001b[0m                                 Traceback (most recent call last)",
      "\u001b[0;32m/var/folders/_k/8h4zfdrd3qgd4kzz6qhbbzyh0000gn/T/ipykernel_84884/4205828437.py\u001b[0m in \u001b[0;36m<module>\u001b[0;34m\u001b[0m\n\u001b[1;32m      1\u001b[0m \u001b[0;31m# Determine BLR model’s accuracy:\u001b[0m\u001b[0;34m\u001b[0m\u001b[0;34m\u001b[0m\u001b[0m\n\u001b[0;32m----> 2\u001b[0;31m \u001b[0my_pred\u001b[0m \u001b[0;34m=\u001b[0m \u001b[0mlogreg\u001b[0m\u001b[0;34m.\u001b[0m\u001b[0mpredict\u001b[0m\u001b[0;34m(\u001b[0m\u001b[0mX_test\u001b[0m\u001b[0;34m)\u001b[0m\u001b[0;34m\u001b[0m\u001b[0;34m\u001b[0m\u001b[0m\n\u001b[0m\u001b[1;32m      3\u001b[0m \u001b[0;34m\u001b[0m\u001b[0m\n\u001b[1;32m      4\u001b[0m print('Accuracy of logistic regression classifier on test set: {:.2f}'\\\n\u001b[1;32m      5\u001b[0m       .format(logreg.score(X_test, y_test)))\n",
      "\u001b[0;31mNameError\u001b[0m: name 'logreg' is not defined"
     ]
    }
   ],
   "source": [
    "# Previous test would have given result: 'LogisticRegression()', meaning function is active.\n",
    "# If it is active that means we can determine BLR model’s accuracy with logreg:\n",
    "y_pred = logreg.predict(X_test)\n",
    "\n",
    "print('Accuracy of logistic regression classifier on test set: {:.2f}'\\\n",
    "      .format(logreg.score(X_test, y_test)))"
   ]
  },
  {
   "cell_type": "markdown",
   "id": "5b73df00",
   "metadata": {},
   "source": [
    "#### Accuracy of logistic regression classifier on test set: 0.86"
   ]
  },
  {
   "cell_type": "markdown",
   "id": "9a93ae07",
   "metadata": {},
   "source": [
    "The accuracy is 85% which is a great fit for this data set and business question. However, if you had an 85% accuracy fit for a business question based on a ‘ yes’ or ‘no’ answer, it might not be a good fit. To further test the model’s accuracy, we can also employ a confusion matrix to evaluate the accuracy of the classification."
   ]
  },
  {
   "cell_type": "code",
   "execution_count": 19,
   "id": "71bf1715",
   "metadata": {},
   "outputs": [
    {
     "ename": "NameError",
     "evalue": "name 'y_test' is not defined",
     "output_type": "error",
     "traceback": [
      "\u001b[0;31m---------------------------------------------------------------------------\u001b[0m",
      "\u001b[0;31mNameError\u001b[0m                                 Traceback (most recent call last)",
      "\u001b[0;32m/var/folders/_k/8h4zfdrd3qgd4kzz6qhbbzyh0000gn/T/ipykernel_14704/2718210455.py\u001b[0m in \u001b[0;36m<module>\u001b[0;34m\u001b[0m\n\u001b[1;32m      4\u001b[0m \u001b[0;34m\u001b[0m\u001b[0m\n\u001b[1;32m      5\u001b[0m \u001b[0;31m# Indicate the confusion matrix needs to be created.\u001b[0m\u001b[0;34m\u001b[0m\u001b[0;34m\u001b[0m\u001b[0m\n\u001b[0;32m----> 6\u001b[0;31m \u001b[0mconfusion_matrix\u001b[0m \u001b[0;34m=\u001b[0m \u001b[0mconfusion_matrix\u001b[0m\u001b[0;34m(\u001b[0m\u001b[0my_test\u001b[0m\u001b[0;34m,\u001b[0m \u001b[0my_pred\u001b[0m\u001b[0;34m)\u001b[0m\u001b[0;34m\u001b[0m\u001b[0;34m\u001b[0m\u001b[0m\n\u001b[0m\u001b[1;32m      7\u001b[0m \u001b[0;34m\u001b[0m\u001b[0m\n\u001b[1;32m      8\u001b[0m \u001b[0;31m# Plot the confusion_matrix.\u001b[0m\u001b[0;34m\u001b[0m\u001b[0;34m\u001b[0m\u001b[0m\n",
      "\u001b[0;31mNameError\u001b[0m: name 'y_test' is not defined"
     ]
    }
   ],
   "source": [
    "# Create the confusion matrix to test classification accuracy in BLR:\n",
    "# Import the necessary package to create the confusion matrix. \n",
    "from sklearn.metrics import confusion_matrix  \n",
    "\n",
    "# Indicate the confusion matrix needs to be created.\n",
    "confusion_matrix = confusion_matrix(y_test, y_pred)  \n",
    "\n",
    "# Plot the confusion_matrix.\n",
    "sns.heatmap(confusion_matrix, annot=True, fmt='g')"
   ]
  },
  {
   "cell_type": "code",
   "execution_count": 84,
   "id": "dc1c82ad",
   "metadata": {},
   "outputs": [
    {
     "ename": "AttributeError",
     "evalue": "module 'sklearn.utils._openmp_helpers' has no attribute '__pyx_capi__'",
     "output_type": "error",
     "traceback": [
      "\u001b[0;31m---------------------------------------------------------------------------\u001b[0m",
      "\u001b[0;31mAttributeError\u001b[0m                            Traceback (most recent call last)",
      "\u001b[0;32m/var/folders/_k/8h4zfdrd3qgd4kzz6qhbbzyh0000gn/T/ipykernel_84884/1378730836.py\u001b[0m in \u001b[0;36m<module>\u001b[0;34m\u001b[0m\n\u001b[1;32m      3\u001b[0m \u001b[0;34m\u001b[0m\u001b[0m\n\u001b[1;32m      4\u001b[0m \u001b[0;31m# Import the necessary package.\u001b[0m\u001b[0;34m\u001b[0m\u001b[0;34m\u001b[0m\u001b[0m\n\u001b[0;32m----> 5\u001b[0;31m \u001b[0;32mfrom\u001b[0m \u001b[0msklearn\u001b[0m\u001b[0;34m.\u001b[0m\u001b[0mmetrics\u001b[0m \u001b[0;32mimport\u001b[0m \u001b[0mclassification_report\u001b[0m\u001b[0;34m\u001b[0m\u001b[0;34m\u001b[0m\u001b[0m\n\u001b[0m\u001b[1;32m      6\u001b[0m \u001b[0;34m\u001b[0m\u001b[0m\n\u001b[1;32m      7\u001b[0m \u001b[0;31m# Print a report on the model's accuracy.\u001b[0m\u001b[0;34m\u001b[0m\u001b[0;34m\u001b[0m\u001b[0m\n",
      "\u001b[0;32m~/opt/anaconda3/lib/python3.9/site-packages/sklearn/metrics/__init__.py\u001b[0m in \u001b[0;36m<module>\u001b[0;34m\u001b[0m\n\u001b[1;32m     39\u001b[0m \u001b[0;32mfrom\u001b[0m \u001b[0;34m.\u001b[0m\u001b[0m_dist_metrics\u001b[0m \u001b[0;32mimport\u001b[0m \u001b[0mDistanceMetric\u001b[0m\u001b[0;34m\u001b[0m\u001b[0;34m\u001b[0m\u001b[0m\n\u001b[1;32m     40\u001b[0m \u001b[0;34m\u001b[0m\u001b[0m\n\u001b[0;32m---> 41\u001b[0;31m \u001b[0;32mfrom\u001b[0m \u001b[0;34m.\u001b[0m \u001b[0;32mimport\u001b[0m \u001b[0mcluster\u001b[0m\u001b[0;34m\u001b[0m\u001b[0;34m\u001b[0m\u001b[0m\n\u001b[0m\u001b[1;32m     42\u001b[0m \u001b[0;32mfrom\u001b[0m \u001b[0;34m.\u001b[0m\u001b[0mcluster\u001b[0m \u001b[0;32mimport\u001b[0m \u001b[0madjusted_mutual_info_score\u001b[0m\u001b[0;34m\u001b[0m\u001b[0;34m\u001b[0m\u001b[0m\n\u001b[1;32m     43\u001b[0m \u001b[0;32mfrom\u001b[0m \u001b[0;34m.\u001b[0m\u001b[0mcluster\u001b[0m \u001b[0;32mimport\u001b[0m \u001b[0madjusted_rand_score\u001b[0m\u001b[0;34m\u001b[0m\u001b[0;34m\u001b[0m\u001b[0m\n",
      "\u001b[0;32m~/opt/anaconda3/lib/python3.9/site-packages/sklearn/metrics/cluster/__init__.py\u001b[0m in \u001b[0;36m<module>\u001b[0;34m\u001b[0m\n\u001b[1;32m     20\u001b[0m \u001b[0;32mfrom\u001b[0m \u001b[0;34m.\u001b[0m\u001b[0m_supervised\u001b[0m \u001b[0;32mimport\u001b[0m \u001b[0mfowlkes_mallows_score\u001b[0m\u001b[0;34m\u001b[0m\u001b[0;34m\u001b[0m\u001b[0m\n\u001b[1;32m     21\u001b[0m \u001b[0;32mfrom\u001b[0m \u001b[0;34m.\u001b[0m\u001b[0m_supervised\u001b[0m \u001b[0;32mimport\u001b[0m \u001b[0mentropy\u001b[0m\u001b[0;34m\u001b[0m\u001b[0;34m\u001b[0m\u001b[0m\n\u001b[0;32m---> 22\u001b[0;31m \u001b[0;32mfrom\u001b[0m \u001b[0;34m.\u001b[0m\u001b[0m_unsupervised\u001b[0m \u001b[0;32mimport\u001b[0m \u001b[0msilhouette_samples\u001b[0m\u001b[0;34m\u001b[0m\u001b[0;34m\u001b[0m\u001b[0m\n\u001b[0m\u001b[1;32m     23\u001b[0m \u001b[0;32mfrom\u001b[0m \u001b[0;34m.\u001b[0m\u001b[0m_unsupervised\u001b[0m \u001b[0;32mimport\u001b[0m \u001b[0msilhouette_score\u001b[0m\u001b[0;34m\u001b[0m\u001b[0;34m\u001b[0m\u001b[0m\n\u001b[1;32m     24\u001b[0m \u001b[0;32mfrom\u001b[0m \u001b[0;34m.\u001b[0m\u001b[0m_unsupervised\u001b[0m \u001b[0;32mimport\u001b[0m \u001b[0mcalinski_harabasz_score\u001b[0m\u001b[0;34m\u001b[0m\u001b[0;34m\u001b[0m\u001b[0m\n",
      "\u001b[0;32m~/opt/anaconda3/lib/python3.9/site-packages/sklearn/metrics/cluster/_unsupervised.py\u001b[0m in \u001b[0;36m<module>\u001b[0;34m\u001b[0m\n\u001b[1;32m     14\u001b[0m \u001b[0;32mfrom\u001b[0m \u001b[0;34m...\u001b[0m\u001b[0mutils\u001b[0m \u001b[0;32mimport\u001b[0m \u001b[0mcheck_X_y\u001b[0m\u001b[0;34m\u001b[0m\u001b[0;34m\u001b[0m\u001b[0m\n\u001b[1;32m     15\u001b[0m \u001b[0;32mfrom\u001b[0m \u001b[0;34m...\u001b[0m\u001b[0mutils\u001b[0m \u001b[0;32mimport\u001b[0m \u001b[0m_safe_indexing\u001b[0m\u001b[0;34m\u001b[0m\u001b[0;34m\u001b[0m\u001b[0m\n\u001b[0;32m---> 16\u001b[0;31m \u001b[0;32mfrom\u001b[0m \u001b[0;34m.\u001b[0m\u001b[0;34m.\u001b[0m\u001b[0mpairwise\u001b[0m \u001b[0;32mimport\u001b[0m \u001b[0mpairwise_distances_chunked\u001b[0m\u001b[0;34m\u001b[0m\u001b[0;34m\u001b[0m\u001b[0m\n\u001b[0m\u001b[1;32m     17\u001b[0m \u001b[0;32mfrom\u001b[0m \u001b[0;34m.\u001b[0m\u001b[0;34m.\u001b[0m\u001b[0mpairwise\u001b[0m \u001b[0;32mimport\u001b[0m \u001b[0mpairwise_distances\u001b[0m\u001b[0;34m\u001b[0m\u001b[0;34m\u001b[0m\u001b[0m\n\u001b[1;32m     18\u001b[0m \u001b[0;32mfrom\u001b[0m \u001b[0;34m...\u001b[0m\u001b[0mpreprocessing\u001b[0m \u001b[0;32mimport\u001b[0m \u001b[0mLabelEncoder\u001b[0m\u001b[0;34m\u001b[0m\u001b[0;34m\u001b[0m\u001b[0m\n",
      "\u001b[0;32m~/opt/anaconda3/lib/python3.9/site-packages/sklearn/metrics/pairwise.py\u001b[0m in \u001b[0;36m<module>\u001b[0;34m\u001b[0m\n\u001b[1;32m     31\u001b[0m \u001b[0;32mfrom\u001b[0m \u001b[0;34m.\u001b[0m\u001b[0;34m.\u001b[0m\u001b[0mutils\u001b[0m\u001b[0;34m.\u001b[0m\u001b[0mfixes\u001b[0m \u001b[0;32mimport\u001b[0m \u001b[0msp_version\u001b[0m\u001b[0;34m,\u001b[0m \u001b[0mparse_version\u001b[0m\u001b[0;34m\u001b[0m\u001b[0;34m\u001b[0m\u001b[0m\n\u001b[1;32m     32\u001b[0m \u001b[0;34m\u001b[0m\u001b[0m\n\u001b[0;32m---> 33\u001b[0;31m \u001b[0;32mfrom\u001b[0m \u001b[0;34m.\u001b[0m\u001b[0m_pairwise_distances_reduction\u001b[0m \u001b[0;32mimport\u001b[0m \u001b[0mPairwiseDistancesArgKmin\u001b[0m\u001b[0;34m\u001b[0m\u001b[0;34m\u001b[0m\u001b[0m\n\u001b[0m\u001b[1;32m     34\u001b[0m \u001b[0;32mfrom\u001b[0m \u001b[0;34m.\u001b[0m\u001b[0m_pairwise_fast\u001b[0m \u001b[0;32mimport\u001b[0m \u001b[0m_chi2_kernel_fast\u001b[0m\u001b[0;34m,\u001b[0m \u001b[0m_sparse_manhattan\u001b[0m\u001b[0;34m\u001b[0m\u001b[0;34m\u001b[0m\u001b[0m\n\u001b[1;32m     35\u001b[0m \u001b[0;32mfrom\u001b[0m \u001b[0;34m.\u001b[0m\u001b[0;34m.\u001b[0m\u001b[0mexceptions\u001b[0m \u001b[0;32mimport\u001b[0m \u001b[0mDataConversionWarning\u001b[0m\u001b[0;34m\u001b[0m\u001b[0;34m\u001b[0m\u001b[0m\n",
      "\u001b[0;32msklearn/metrics/_pairwise_distances_reduction.pyx\u001b[0m in \u001b[0;36minit sklearn.metrics._pairwise_distances_reduction\u001b[0;34m()\u001b[0m\n",
      "\u001b[0;31mAttributeError\u001b[0m: module 'sklearn.utils._openmp_helpers' has no attribute '__pyx_capi__'"
     ]
    }
   ],
   "source": [
    "# We can see that 'True Positive' and 'True Negative' are much bigger that \"False Positive\"/'False Negative'\n",
    "# Now we ran a classification report to find out precision, recall, f1 score and support\n",
    "\n",
    "# Import the necessary package.\n",
    "from sklearn.metrics import classification_report  \n",
    "\n",
    "# Print a report on the model's accuracy.\n",
    "print(classification_report(y_test, y_pred))  "
   ]
  },
  {
   "cell_type": "markdown",
   "id": "6ede6813",
   "metadata": {},
   "source": [
    "#### Precision scores are 85-86%, very high. Our model is accurate."
   ]
  },
  {
   "cell_type": "markdown",
   "id": "a7611836",
   "metadata": {},
   "source": [
    "### 2.1.7 Worked example: Building an MLR model"
   ]
  },
  {
   "cell_type": "code",
   "execution_count": 23,
   "id": "b2f6daed",
   "metadata": {},
   "outputs": [
    {
     "ename": "ImportError",
     "evalue": "cannot import name '_centered' from 'scipy.signal.signaltools' (/Users/javierconde/opt/anaconda3/lib/python3.9/site-packages/scipy/signal/signaltools.py)",
     "output_type": "error",
     "traceback": [
      "\u001b[0;31m---------------------------------------------------------------------------\u001b[0m",
      "\u001b[0;31mImportError\u001b[0m                               Traceback (most recent call last)",
      "\u001b[0;32m/var/folders/_k/8h4zfdrd3qgd4kzz6qhbbzyh0000gn/T/ipykernel_14704/1422906074.py\u001b[0m in \u001b[0;36m<module>\u001b[0;34m\u001b[0m\n\u001b[1;32m      4\u001b[0m \u001b[0;32mimport\u001b[0m \u001b[0mscipy\u001b[0m \u001b[0;32mas\u001b[0m \u001b[0mscp\u001b[0m\u001b[0;34m\u001b[0m\u001b[0;34m\u001b[0m\u001b[0m\n\u001b[1;32m      5\u001b[0m \u001b[0;32mimport\u001b[0m \u001b[0msklearn\u001b[0m\u001b[0;34m\u001b[0m\u001b[0;34m\u001b[0m\u001b[0m\n\u001b[0;32m----> 6\u001b[0;31m \u001b[0;32mimport\u001b[0m \u001b[0mstatsmodels\u001b[0m\u001b[0;34m.\u001b[0m\u001b[0mapi\u001b[0m \u001b[0;32mas\u001b[0m \u001b[0msm\u001b[0m\u001b[0;34m\u001b[0m\u001b[0;34m\u001b[0m\u001b[0m\n\u001b[0m\u001b[1;32m      7\u001b[0m \u001b[0;34m\u001b[0m\u001b[0m\n\u001b[1;32m      8\u001b[0m \u001b[0;32mfrom\u001b[0m \u001b[0msklearn\u001b[0m\u001b[0;34m.\u001b[0m\u001b[0mmodel_selection\u001b[0m \u001b[0;32mimport\u001b[0m \u001b[0mtrain_test_split\u001b[0m\u001b[0;34m\u001b[0m\u001b[0;34m\u001b[0m\u001b[0m\n",
      "\u001b[0;32m~/opt/anaconda3/lib/python3.9/site-packages/statsmodels/api.py\u001b[0m in \u001b[0;36m<module>\u001b[0;34m\u001b[0m\n\u001b[1;32m     25\u001b[0m                                    \u001b[0mZeroInflatedGeneralizedPoisson\u001b[0m\u001b[0;34m,\u001b[0m\u001b[0;34m\u001b[0m\u001b[0;34m\u001b[0m\u001b[0m\n\u001b[1;32m     26\u001b[0m                                    ZeroInflatedNegativeBinomialP)\n\u001b[0;32m---> 27\u001b[0;31m \u001b[0;32mfrom\u001b[0m \u001b[0;34m.\u001b[0m\u001b[0mtsa\u001b[0m \u001b[0;32mimport\u001b[0m \u001b[0mapi\u001b[0m \u001b[0;32mas\u001b[0m \u001b[0mtsa\u001b[0m\u001b[0;34m\u001b[0m\u001b[0;34m\u001b[0m\u001b[0m\n\u001b[0m\u001b[1;32m     28\u001b[0m \u001b[0;32mfrom\u001b[0m \u001b[0;34m.\u001b[0m\u001b[0mduration\u001b[0m\u001b[0;34m.\u001b[0m\u001b[0msurvfunc\u001b[0m \u001b[0;32mimport\u001b[0m \u001b[0mSurvfuncRight\u001b[0m\u001b[0;34m\u001b[0m\u001b[0;34m\u001b[0m\u001b[0m\n\u001b[1;32m     29\u001b[0m \u001b[0;32mfrom\u001b[0m \u001b[0;34m.\u001b[0m\u001b[0mduration\u001b[0m\u001b[0;34m.\u001b[0m\u001b[0mhazard_regression\u001b[0m \u001b[0;32mimport\u001b[0m \u001b[0mPHReg\u001b[0m\u001b[0;34m\u001b[0m\u001b[0;34m\u001b[0m\u001b[0m\n",
      "\u001b[0;32m~/opt/anaconda3/lib/python3.9/site-packages/statsmodels/tsa/api.py\u001b[0m in \u001b[0;36m<module>\u001b[0;34m\u001b[0m\n\u001b[1;32m     29\u001b[0m \u001b[0;32mfrom\u001b[0m \u001b[0;34m.\u001b[0m\u001b[0mvector_ar\u001b[0m\u001b[0;34m.\u001b[0m\u001b[0mvecm\u001b[0m \u001b[0;32mimport\u001b[0m \u001b[0mVECM\u001b[0m\u001b[0;34m\u001b[0m\u001b[0;34m\u001b[0m\u001b[0m\n\u001b[1;32m     30\u001b[0m \u001b[0;32mfrom\u001b[0m \u001b[0;34m.\u001b[0m\u001b[0mvector_ar\u001b[0m\u001b[0;34m.\u001b[0m\u001b[0msvar_model\u001b[0m \u001b[0;32mimport\u001b[0m \u001b[0mSVAR\u001b[0m\u001b[0;34m\u001b[0m\u001b[0;34m\u001b[0m\u001b[0m\n\u001b[0;32m---> 31\u001b[0;31m \u001b[0;32mfrom\u001b[0m \u001b[0;34m.\u001b[0m\u001b[0mfilters\u001b[0m \u001b[0;32mimport\u001b[0m \u001b[0mapi\u001b[0m \u001b[0;32mas\u001b[0m \u001b[0mfilters\u001b[0m\u001b[0;34m\u001b[0m\u001b[0;34m\u001b[0m\u001b[0m\n\u001b[0m\u001b[1;32m     32\u001b[0m \u001b[0;32mfrom\u001b[0m \u001b[0;34m.\u001b[0m \u001b[0;32mimport\u001b[0m \u001b[0mtsatools\u001b[0m\u001b[0;34m\u001b[0m\u001b[0;34m\u001b[0m\u001b[0m\n\u001b[1;32m     33\u001b[0m \u001b[0;32mfrom\u001b[0m \u001b[0;34m.\u001b[0m\u001b[0mtsatools\u001b[0m \u001b[0;32mimport\u001b[0m \u001b[0;34m(\u001b[0m\u001b[0madd_trend\u001b[0m\u001b[0;34m,\u001b[0m \u001b[0mdetrend\u001b[0m\u001b[0;34m,\u001b[0m \u001b[0mlagmat\u001b[0m\u001b[0;34m,\u001b[0m \u001b[0mlagmat2ds\u001b[0m\u001b[0;34m,\u001b[0m \u001b[0madd_lag\u001b[0m\u001b[0;34m)\u001b[0m\u001b[0;34m\u001b[0m\u001b[0;34m\u001b[0m\u001b[0m\n",
      "\u001b[0;32m~/opt/anaconda3/lib/python3.9/site-packages/statsmodels/tsa/filters/api.py\u001b[0m in \u001b[0;36m<module>\u001b[0;34m\u001b[0m\n\u001b[1;32m      4\u001b[0m \u001b[0;32mfrom\u001b[0m \u001b[0;34m.\u001b[0m\u001b[0mhp_filter\u001b[0m \u001b[0;32mimport\u001b[0m \u001b[0mhpfilter\u001b[0m\u001b[0;34m\u001b[0m\u001b[0;34m\u001b[0m\u001b[0m\n\u001b[1;32m      5\u001b[0m \u001b[0;32mfrom\u001b[0m \u001b[0;34m.\u001b[0m\u001b[0mcf_filter\u001b[0m \u001b[0;32mimport\u001b[0m \u001b[0mcffilter\u001b[0m\u001b[0;34m\u001b[0m\u001b[0;34m\u001b[0m\u001b[0m\n\u001b[0;32m----> 6\u001b[0;31m \u001b[0;32mfrom\u001b[0m \u001b[0;34m.\u001b[0m\u001b[0mfiltertools\u001b[0m \u001b[0;32mimport\u001b[0m \u001b[0mmiso_lfilter\u001b[0m\u001b[0;34m,\u001b[0m \u001b[0mconvolution_filter\u001b[0m\u001b[0;34m,\u001b[0m \u001b[0mrecursive_filter\u001b[0m\u001b[0;34m\u001b[0m\u001b[0;34m\u001b[0m\u001b[0m\n\u001b[0m",
      "\u001b[0;32m~/opt/anaconda3/lib/python3.9/site-packages/statsmodels/tsa/filters/filtertools.py\u001b[0m in \u001b[0;36m<module>\u001b[0;34m\u001b[0m\n\u001b[1;32m     16\u001b[0m \u001b[0;32mimport\u001b[0m \u001b[0mscipy\u001b[0m\u001b[0;34m.\u001b[0m\u001b[0mfftpack\u001b[0m \u001b[0;32mas\u001b[0m \u001b[0mfft\u001b[0m\u001b[0;34m\u001b[0m\u001b[0;34m\u001b[0m\u001b[0m\n\u001b[1;32m     17\u001b[0m \u001b[0;32mfrom\u001b[0m \u001b[0mscipy\u001b[0m \u001b[0;32mimport\u001b[0m \u001b[0msignal\u001b[0m\u001b[0;34m\u001b[0m\u001b[0;34m\u001b[0m\u001b[0m\n\u001b[0;32m---> 18\u001b[0;31m \u001b[0;32mfrom\u001b[0m \u001b[0mscipy\u001b[0m\u001b[0;34m.\u001b[0m\u001b[0msignal\u001b[0m\u001b[0;34m.\u001b[0m\u001b[0msignaltools\u001b[0m \u001b[0;32mimport\u001b[0m \u001b[0m_centered\u001b[0m \u001b[0;32mas\u001b[0m \u001b[0mtrim_centered\u001b[0m\u001b[0;34m\u001b[0m\u001b[0;34m\u001b[0m\u001b[0m\n\u001b[0m\u001b[1;32m     19\u001b[0m \u001b[0;34m\u001b[0m\u001b[0m\n\u001b[1;32m     20\u001b[0m \u001b[0;32mfrom\u001b[0m \u001b[0mstatsmodels\u001b[0m\u001b[0;34m.\u001b[0m\u001b[0mtools\u001b[0m\u001b[0;34m.\u001b[0m\u001b[0mvalidation\u001b[0m \u001b[0;32mimport\u001b[0m \u001b[0marray_like\u001b[0m\u001b[0;34m,\u001b[0m \u001b[0mPandasWrapper\u001b[0m\u001b[0;34m\u001b[0m\u001b[0;34m\u001b[0m\u001b[0m\n",
      "\u001b[0;31mImportError\u001b[0m: cannot import name '_centered' from 'scipy.signal.signaltools' (/Users/javierconde/opt/anaconda3/lib/python3.9/site-packages/scipy/signal/signaltools.py)"
     ]
    }
   ],
   "source": [
    "# Import all the necessary packages: Pandas, NumPy, SciPy, Sklearn, StatsModels.\n",
    "import pandas as pd \n",
    "import numpy as np \n",
    "import scipy as scp\n",
    "import sklearn\n",
    "import statsmodels.api as sm\n",
    "\n",
    "from sklearn.model_selection import train_test_split\n",
    "from sklearn.linear_model import LogisticRegression\n",
    "from sklearn.metrics import classification_report\n",
    "from sklearn import metrics \n",
    "from sklearn.metrics import confusion_matrix"
   ]
  },
  {
   "cell_type": "code",
   "execution_count": 2,
   "id": "c30d4272",
   "metadata": {},
   "outputs": [
    {
     "data": {
      "text/plain": [
       "Index(['sex', 'length', 'diameter', 'height', 'total_weight', 'raw_weight',\n",
       "       'intestines_weight', 'shell_weight', 'age'],\n",
       "      dtype='object')"
      ]
     },
     "execution_count": 2,
     "metadata": {},
     "output_type": "execute_result"
    }
   ],
   "source": [
    "# Upload the CSV file.\n",
    "oysters = pd.read_csv('oysters.csv')  \n",
    "\n",
    "# Print the columns.\n",
    "oysters.columns "
   ]
  },
  {
   "cell_type": "code",
   "execution_count": 3,
   "id": "94f2aa96",
   "metadata": {},
   "outputs": [
    {
     "name": "stdout",
     "output_type": "stream",
     "text": [
      "<class 'pandas.core.frame.DataFrame'>\n",
      "RangeIndex: 9484 entries, 0 to 9483\n",
      "Data columns (total 9 columns):\n",
      " #   Column             Non-Null Count  Dtype  \n",
      "---  ------             --------------  -----  \n",
      " 0   sex                9484 non-null   object \n",
      " 1   length             9484 non-null   float64\n",
      " 2   diameter           9484 non-null   float64\n",
      " 3   height             9484 non-null   float64\n",
      " 4   total_weight       9484 non-null   float64\n",
      " 5   raw_weight         9484 non-null   float64\n",
      " 6   intestines_weight  9484 non-null   float64\n",
      " 7   shell_weight       9484 non-null   float64\n",
      " 8   age                9484 non-null   int64  \n",
      "dtypes: float64(7), int64(1), object(1)\n",
      "memory usage: 667.0+ KB\n"
     ]
    }
   ],
   "source": [
    "# View the DataFrame.\n",
    "oysters.info()"
   ]
  },
  {
   "cell_type": "code",
   "execution_count": 5,
   "id": "ba7aab10",
   "metadata": {},
   "outputs": [
    {
     "data": {
      "text/plain": [
       "(9484, 9)"
      ]
     },
     "execution_count": 5,
     "metadata": {},
     "output_type": "execute_result"
    }
   ],
   "source": [
    "oysters.shape"
   ]
  },
  {
   "cell_type": "code",
   "execution_count": 6,
   "id": "70e91eb2",
   "metadata": {},
   "outputs": [
    {
     "data": {
      "text/html": [
       "<div>\n",
       "<style scoped>\n",
       "    .dataframe tbody tr th:only-of-type {\n",
       "        vertical-align: middle;\n",
       "    }\n",
       "\n",
       "    .dataframe tbody tr th {\n",
       "        vertical-align: top;\n",
       "    }\n",
       "\n",
       "    .dataframe thead th {\n",
       "        text-align: right;\n",
       "    }\n",
       "</style>\n",
       "<table border=\"1\" class=\"dataframe\">\n",
       "  <thead>\n",
       "    <tr style=\"text-align: right;\">\n",
       "      <th></th>\n",
       "      <th>sex</th>\n",
       "      <th>length</th>\n",
       "      <th>diameter</th>\n",
       "      <th>height</th>\n",
       "      <th>total_weight</th>\n",
       "      <th>raw_weight</th>\n",
       "      <th>intestines_weight</th>\n",
       "      <th>shell_weight</th>\n",
       "      <th>age</th>\n",
       "    </tr>\n",
       "  </thead>\n",
       "  <tbody>\n",
       "    <tr>\n",
       "      <th>0</th>\n",
       "      <td>male</td>\n",
       "      <td>0.455</td>\n",
       "      <td>0.365</td>\n",
       "      <td>0.095</td>\n",
       "      <td>0.5140</td>\n",
       "      <td>0.2245</td>\n",
       "      <td>0.1010</td>\n",
       "      <td>0.1500</td>\n",
       "      <td>15</td>\n",
       "    </tr>\n",
       "    <tr>\n",
       "      <th>1</th>\n",
       "      <td>female</td>\n",
       "      <td>0.575</td>\n",
       "      <td>0.475</td>\n",
       "      <td>0.160</td>\n",
       "      <td>0.8950</td>\n",
       "      <td>0.3605</td>\n",
       "      <td>0.2210</td>\n",
       "      <td>0.2710</td>\n",
       "      <td>9</td>\n",
       "    </tr>\n",
       "    <tr>\n",
       "      <th>2</th>\n",
       "      <td>male</td>\n",
       "      <td>0.575</td>\n",
       "      <td>0.450</td>\n",
       "      <td>0.155</td>\n",
       "      <td>0.8860</td>\n",
       "      <td>0.3605</td>\n",
       "      <td>0.2110</td>\n",
       "      <td>0.2575</td>\n",
       "      <td>9</td>\n",
       "    </tr>\n",
       "    <tr>\n",
       "      <th>3</th>\n",
       "      <td>infant</td>\n",
       "      <td>0.580</td>\n",
       "      <td>0.460</td>\n",
       "      <td>0.140</td>\n",
       "      <td>0.9265</td>\n",
       "      <td>0.4135</td>\n",
       "      <td>0.1845</td>\n",
       "      <td>0.2700</td>\n",
       "      <td>10</td>\n",
       "    </tr>\n",
       "    <tr>\n",
       "      <th>4</th>\n",
       "      <td>infant</td>\n",
       "      <td>0.580</td>\n",
       "      <td>0.460</td>\n",
       "      <td>0.140</td>\n",
       "      <td>0.8295</td>\n",
       "      <td>0.3915</td>\n",
       "      <td>0.1650</td>\n",
       "      <td>0.2380</td>\n",
       "      <td>10</td>\n",
       "    </tr>\n",
       "  </tbody>\n",
       "</table>\n",
       "</div>"
      ],
      "text/plain": [
       "      sex  length  diameter  height  total_weight  raw_weight  \\\n",
       "0    male   0.455     0.365   0.095        0.5140      0.2245   \n",
       "1  female   0.575     0.475   0.160        0.8950      0.3605   \n",
       "2    male   0.575     0.450   0.155        0.8860      0.3605   \n",
       "3  infant   0.580     0.460   0.140        0.9265      0.4135   \n",
       "4  infant   0.580     0.460   0.140        0.8295      0.3915   \n",
       "\n",
       "   intestines_weight  shell_weight  age  \n",
       "0             0.1010        0.1500   15  \n",
       "1             0.2210        0.2710    9  \n",
       "2             0.2110        0.2575    9  \n",
       "3             0.1845        0.2700   10  \n",
       "4             0.1650        0.2380   10  "
      ]
     },
     "execution_count": 6,
     "metadata": {},
     "output_type": "execute_result"
    }
   ],
   "source": [
    "oysters.head()"
   ]
  },
  {
   "cell_type": "code",
   "execution_count": 10,
   "id": "0029836a",
   "metadata": {},
   "outputs": [
    {
     "name": "stdout",
     "output_type": "stream",
     "text": [
      "male      3561\n",
      "female    3113\n",
      "infant    2810\n",
      "Name: sex, dtype: int64\n"
     ]
    }
   ],
   "source": [
    "# Apply the value_counts() method, and \n",
    "# assign the results to a new DataFrame.\n",
    "oysters_sex = oysters['sex'].value_counts()\n",
    "print(oysters_sex)"
   ]
  },
  {
   "cell_type": "markdown",
   "id": "b8695e90",
   "metadata": {},
   "source": [
    "Unlike in the previous BLR example you worked through, the categories have relatively similar counts, so the data is balanced; you won’t need to take extra steps to balance the data in this instance. The next steps will be \n",
    "- to separate the dependent variable from the independent variables\n",
    "- build the model\n",
    "- create the equation\n",
    "- test the model’s accuracy. "
   ]
  },
  {
   "cell_type": "code",
   "execution_count": 13,
   "id": "78b2821f",
   "metadata": {},
   "outputs": [],
   "source": [
    "# Set the independent and dependent variables:\n",
    "# Set the independent variable.\n",
    "X = oysters.drop(['sex'], axis=1)\n",
    "# Set the dependent variable.\n",
    "y = oysters['sex']"
   ]
  },
  {
   "cell_type": "code",
   "execution_count": 14,
   "id": "fa17321d",
   "metadata": {},
   "outputs": [
    {
     "name": "stdout",
     "output_type": "stream",
     "text": [
      "['length', 'diameter', 'height', 'total_weight', 'raw_weight', 'intestines_weight', 'shell_weight', 'age']\n"
     ]
    }
   ],
   "source": [
    "# Print to check sex column was dropped.\n",
    "print(list(X.columns.values))"
   ]
  },
  {
   "cell_type": "code",
   "execution_count": 17,
   "id": "225fd4aa",
   "metadata": {},
   "outputs": [
    {
     "ename": "AttributeError",
     "evalue": "module 'sklearn' has no attribute 'model_selection'",
     "output_type": "error",
     "traceback": [
      "\u001b[0;31m---------------------------------------------------------------------------\u001b[0m",
      "\u001b[0;31mAttributeError\u001b[0m                            Traceback (most recent call last)",
      "\u001b[0;32m/var/folders/_k/8h4zfdrd3qgd4kzz6qhbbzyh0000gn/T/ipykernel_14704/388467326.py\u001b[0m in \u001b[0;36m<module>\u001b[0;34m\u001b[0m\n\u001b[1;32m      1\u001b[0m \u001b[0;31m# Specify the train and test data sets and\u001b[0m\u001b[0;34m\u001b[0m\u001b[0;34m\u001b[0m\u001b[0m\n\u001b[1;32m      2\u001b[0m \u001b[0;31m# use 30% as the ‘test_size’ and a random_state of one.\u001b[0m\u001b[0;34m\u001b[0m\u001b[0;34m\u001b[0m\u001b[0m\n\u001b[0;32m----> 3\u001b[0;31m X_train, X_test, y_train, y_test = sklearn.model_selection.train_test_split(X, y, test_size = 0.30, \\\n\u001b[0m\u001b[1;32m      4\u001b[0m                                                                             random_state = 1, stratify=y) \n\u001b[1;32m      5\u001b[0m \u001b[0;34m\u001b[0m\u001b[0m\n",
      "\u001b[0;31mAttributeError\u001b[0m: module 'sklearn' has no attribute 'model_selection'"
     ]
    }
   ],
   "source": [
    "# Specify the train and test data sets and \n",
    "# use 30% as the ‘test_size’ and a random_state of one.\n",
    "X_train, X_test, y_train, y_test = sklearn.model_selection.train_test_split(X, y, test_size = 0.30, \\\n",
    "                                                                            random_state = 1, stratify=y) \n",
    "\n",
    "# Print the shape of all the train and tests sets.\n",
    "print(X_train.shape)\n",
    "print(X_test.shape)\n",
    "print(y_train.shape)\n",
    "print(y_test.shape)"
   ]
  },
  {
   "cell_type": "markdown",
   "id": "7a2a56fd",
   "metadata": {},
   "source": [
    "Output:\n",
    "    \n",
    "['length', 'diameter', 'height', 'total_weight', 'raw_weight', 'intestines_weight',\n",
    " 'shell_weight', 'age']\n",
    "\n",
    "(6638, 8)\n",
    "(2846, 8)\n",
    "(6638,)\n",
    "(2846,)\n",
    "\n",
    "Great! The sex column was dropped and the shape of all four data sets was printed. Here’s what we can confirm:\n",
    "\n",
    "- X_train had 6,638 rows and eight columns\n",
    "- X_test had 2,846 rows and eight columns\n",
    "- y-train had 6,638 rows\n",
    "- y_test had 2,846 rows. \n",
    "\n",
    "The output is correct because 30% of 9,484 values is 2,845.2 (2,846 rounded up as you cannot get a partial oyster). "
   ]
  },
  {
   "cell_type": "code",
   "execution_count": 26,
   "id": "c1b062fa",
   "metadata": {},
   "outputs": [],
   "source": [
    "# Import the MinMaxScaler to normalise the data.\n",
    "from sklearn.preprocessing import MinMaxScaler  "
   ]
  },
  {
   "cell_type": "code",
   "execution_count": 28,
   "id": "335cf448",
   "metadata": {},
   "outputs": [],
   "source": [
    "# Create a function and set values.\n",
    "scaler = MinMaxScaler(feature_range = (0,1))   "
   ]
  },
  {
   "cell_type": "code",
   "execution_count": 29,
   "id": "ed96e574",
   "metadata": {},
   "outputs": [
    {
     "ename": "NameError",
     "evalue": "name 'X_train' is not defined",
     "output_type": "error",
     "traceback": [
      "\u001b[0;31m---------------------------------------------------------------------------\u001b[0m",
      "\u001b[0;31mNameError\u001b[0m                                 Traceback (most recent call last)",
      "\u001b[0;32m/var/folders/_k/8h4zfdrd3qgd4kzz6qhbbzyh0000gn/T/ipykernel_14704/728782036.py\u001b[0m in \u001b[0;36m<module>\u001b[0;34m\u001b[0m\n\u001b[1;32m      1\u001b[0m \u001b[0;31m# Add the X_train data set to the ‘scaler’ function.\u001b[0m\u001b[0;34m\u001b[0m\u001b[0;34m\u001b[0m\u001b[0m\n\u001b[0;32m----> 2\u001b[0;31m \u001b[0mscaler\u001b[0m\u001b[0;34m.\u001b[0m\u001b[0mfit\u001b[0m\u001b[0;34m(\u001b[0m\u001b[0mX_train\u001b[0m\u001b[0;34m)\u001b[0m\u001b[0;34m\u001b[0m\u001b[0;34m\u001b[0m\u001b[0m\n\u001b[0m\u001b[1;32m      3\u001b[0m \u001b[0;31m# Specify X_train data set.\u001b[0m\u001b[0;34m\u001b[0m\u001b[0;34m\u001b[0m\u001b[0m\n\u001b[1;32m      4\u001b[0m \u001b[0mX_train\u001b[0m \u001b[0;34m=\u001b[0m \u001b[0mscaler\u001b[0m\u001b[0;34m.\u001b[0m\u001b[0mtransform\u001b[0m\u001b[0;34m(\u001b[0m\u001b[0mX_train\u001b[0m\u001b[0;34m)\u001b[0m\u001b[0;34m\u001b[0m\u001b[0;34m\u001b[0m\u001b[0m\n\u001b[1;32m      5\u001b[0m \u001b[0;31m# Specify X_test data set.\u001b[0m\u001b[0;34m\u001b[0m\u001b[0;34m\u001b[0m\u001b[0m\n",
      "\u001b[0;31mNameError\u001b[0m: name 'X_train' is not defined"
     ]
    }
   ],
   "source": [
    "# Add the X_train data set to the ‘scaler’ function.\n",
    "scaler.fit(X_train)\n",
    "# Specify X_train data set.\n",
    "X_train = scaler.transform(X_train) \n",
    "# Specify X_test data set. \n",
    "X_test = scaler.transform(X_test)"
   ]
  },
  {
   "cell_type": "markdown",
   "id": "2e109d72",
   "metadata": {},
   "source": [
    "Next, you need to start building the MLR model, which is similar to the BLR of the previous topics. Follow along to print the parameters for the model:"
   ]
  },
  {
   "cell_type": "code",
   "execution_count": 30,
   "id": "267fd3cf",
   "metadata": {},
   "outputs": [
    {
     "ename": "NameError",
     "evalue": "name 'LogisticRegression' is not defined",
     "output_type": "error",
     "traceback": [
      "\u001b[0;31m---------------------------------------------------------------------------\u001b[0m",
      "\u001b[0;31mNameError\u001b[0m                                 Traceback (most recent call last)",
      "\u001b[0;32m/var/folders/_k/8h4zfdrd3qgd4kzz6qhbbzyh0000gn/T/ipykernel_14704/3842396794.py\u001b[0m in \u001b[0;36m<module>\u001b[0;34m\u001b[0m\n\u001b[1;32m      1\u001b[0m \u001b[0;31m# Define the MLR model and  set predictions and parameters.\u001b[0m\u001b[0;34m\u001b[0m\u001b[0;34m\u001b[0m\u001b[0m\n\u001b[0;32m----> 2\u001b[0;31m MLR = LogisticRegression(random_state=0, \n\u001b[0m\u001b[1;32m      3\u001b[0m                          \u001b[0mmulti_class\u001b[0m\u001b[0;34m=\u001b[0m\u001b[0;34m'multinomial'\u001b[0m\u001b[0;34m,\u001b[0m\u001b[0;34m\u001b[0m\u001b[0;34m\u001b[0m\u001b[0m\n\u001b[1;32m      4\u001b[0m                          \u001b[0mpenalty\u001b[0m\u001b[0;34m=\u001b[0m\u001b[0;34m'none'\u001b[0m\u001b[0;34m,\u001b[0m\u001b[0;34m\u001b[0m\u001b[0;34m\u001b[0m\u001b[0m\n\u001b[1;32m      5\u001b[0m                          solver='newton-cg').fit(X_train, y_train)\n",
      "\u001b[0;31mNameError\u001b[0m: name 'LogisticRegression' is not defined"
     ]
    }
   ],
   "source": [
    "# Define the MLR model and  set predictions and parameters.\n",
    "MLR = LogisticRegression(random_state=0, \n",
    "                         multi_class='multinomial', \n",
    "                         penalty='none', \n",
    "                         solver='newton-cg').fit(X_train, y_train)\n",
    "# Set the predictions equal to the ‘MLR’ function and \n",
    "# specify the DataFrame.\n",
    "preds = MLR.predict(X_test) \n",
    "\n",
    "# Set the parameters equal to the DataFrame and \n",
    "# add the ‘get_params’ function. \n",
    "params = MLR.get_params() \n",
    "\n",
    "# Print the parameters.\n",
    "print(params)"
   ]
  },
  {
   "cell_type": "markdown",
   "id": "be6d41b8",
   "metadata": {},
   "source": [
    "Output if libraries would have worked:\n",
    "\n",
    "{'C': 1.0, 'class_weight': None, 'dual': False, 'fit_intercept': True,\n",
    " 'intercept_scaling': 1, 'l1_ratio': None, 'max_iter': 100, 'multi_class': \n",
    " 'multinomial', 'n_jobs': None, 'penalty': 'none', 'random_state': 0, 'solver': \n",
    " 'newton-cg', 'tol': 0.0001, 'verbose': 0, 'warm_start': False}"
   ]
  },
  {
   "cell_type": "code",
   "execution_count": 32,
   "id": "2e9ff286",
   "metadata": {},
   "outputs": [
    {
     "ename": "NameError",
     "evalue": "name 'MLR' is not defined",
     "output_type": "error",
     "traceback": [
      "\u001b[0;31m---------------------------------------------------------------------------\u001b[0m",
      "\u001b[0;31mNameError\u001b[0m                                 Traceback (most recent call last)",
      "\u001b[0;32m/var/folders/_k/8h4zfdrd3qgd4kzz6qhbbzyh0000gn/T/ipykernel_14704/4091856522.py\u001b[0m in \u001b[0;36m<module>\u001b[0;34m\u001b[0m\n\u001b[1;32m      1\u001b[0m \u001b[0;31m# Next, we need to evaluate the MLR intercept and coefficients as follows:\u001b[0m\u001b[0;34m\u001b[0m\u001b[0;34m\u001b[0m\u001b[0m\n\u001b[1;32m      2\u001b[0m \u001b[0;34m\u001b[0m\u001b[0m\n\u001b[0;32m----> 3\u001b[0;31m \u001b[0mprint\u001b[0m\u001b[0;34m(\u001b[0m\u001b[0;34m\"Intercept: \\n\"\u001b[0m\u001b[0;34m,\u001b[0m \u001b[0mMLR\u001b[0m\u001b[0;34m.\u001b[0m\u001b[0mintercept_\u001b[0m\u001b[0;34m)\u001b[0m\u001b[0;34m\u001b[0m\u001b[0;34m\u001b[0m\u001b[0m\n\u001b[0m\u001b[1;32m      4\u001b[0m \u001b[0mprint\u001b[0m\u001b[0;34m(\u001b[0m\u001b[0;34m\"Coefficients: \\n\"\u001b[0m\u001b[0;34m,\u001b[0m \u001b[0mMLR\u001b[0m\u001b[0;34m.\u001b[0m\u001b[0mcoef_\u001b[0m\u001b[0;34m)\u001b[0m\u001b[0;34m\u001b[0m\u001b[0;34m\u001b[0m\u001b[0m\n",
      "\u001b[0;31mNameError\u001b[0m: name 'MLR' is not defined"
     ]
    }
   ],
   "source": [
    "# Next, we need to evaluate the MLR intercept and coefficients as follows:\n",
    "\n",
    "print(\"Intercept: \\n\", MLR.intercept_)\n",
    "print(\"Coefficients: \\n\", MLR.coef_)"
   ]
  },
  {
   "cell_type": "markdown",
   "id": "be547925",
   "metadata": {},
   "source": [
    "Intercept: [-1.84354304 1.2453045 0.59823854] \n",
    "\n",
    "Coefficients:\n",
    " [[ -7.86123087 9.71436979 4.80820842 1.8175752 -3.37550025\n",
    "    5.69858878 -1.073312 0.04851337]\n",
    " [ 13.84651823 -10.25218773 -6.97271582 -4.06859041 4.29483074\n",
    "   -8.71920548 1.89845941 -0.11116259]\n",
    " [ -5.98528736 0.53781794 2.1645074 2.25101521 -0.91933049\n",
    "    3.0206167 -0.82514742 0.06264922]]"
   ]
  },
  {
   "cell_type": "code",
   "execution_count": 35,
   "id": "ea4ff61d",
   "metadata": {},
   "outputs": [
    {
     "ename": "NameError",
     "evalue": "name 'sm' is not defined",
     "output_type": "error",
     "traceback": [
      "\u001b[0;31m---------------------------------------------------------------------------\u001b[0m",
      "\u001b[0;31mNameError\u001b[0m                                 Traceback (most recent call last)",
      "\u001b[0;32m/var/folders/_k/8h4zfdrd3qgd4kzz6qhbbzyh0000gn/T/ipykernel_14704/2669971759.py\u001b[0m in \u001b[0;36m<module>\u001b[0;34m\u001b[0m\n\u001b[1;32m      2\u001b[0m \u001b[0;34m\u001b[0m\u001b[0m\n\u001b[1;32m      3\u001b[0m \u001b[0;31m# Name the model and [2] Set model to the function.\u001b[0m\u001b[0;34m\u001b[0m\u001b[0;34m\u001b[0m\u001b[0m\n\u001b[0;32m----> 4\u001b[0;31m \u001b[0mlogit_model\u001b[0m\u001b[0;34m=\u001b[0m\u001b[0msm\u001b[0m\u001b[0;34m.\u001b[0m\u001b[0mMNLogit\u001b[0m\u001b[0;34m(\u001b[0m\u001b[0my_train\u001b[0m\u001b[0;34m,\u001b[0m\u001b[0msm\u001b[0m\u001b[0;34m.\u001b[0m\u001b[0madd_constant\u001b[0m\u001b[0;34m(\u001b[0m\u001b[0mX_train\u001b[0m\u001b[0;34m)\u001b[0m\u001b[0;34m)\u001b[0m\u001b[0;34m\u001b[0m\u001b[0;34m\u001b[0m\u001b[0m\n\u001b[0m\u001b[1;32m      5\u001b[0m \u001b[0mlogit_model\u001b[0m\u001b[0;34m\u001b[0m\u001b[0;34m\u001b[0m\u001b[0m\n\u001b[1;32m      6\u001b[0m \u001b[0;34m\u001b[0m\u001b[0m\n",
      "\u001b[0;31mNameError\u001b[0m: name 'sm' is not defined"
     ]
    }
   ],
   "source": [
    "# Now we create a linear equation from the logit model\n",
    "\n",
    "# Name the model and [2] Set model to the function.\n",
    "logit_model=sm.MNLogit(y_train,sm.add_constant(X_train))\n",
    "logit_model\n",
    "\n",
    "# Specify how the function returns the results.\n",
    "result=logit_model.fit()  \n",
    "\n",
    "# Print the report as a result.summary() function: \n",
    "print(\"Summary for Sex:I/M :\\n \", result.summary())"
   ]
  },
  {
   "cell_type": "markdown",
   "id": "314c310f",
   "metadata": {},
   "source": [
    "#### The result of this last operation would be a table with all the parametres of the model"
   ]
  },
  {
   "cell_type": "code",
   "execution_count": 37,
   "id": "dcd6c06f",
   "metadata": {},
   "outputs": [
    {
     "ename": "NameError",
     "evalue": "name 'y_test' is not defined",
     "output_type": "error",
     "traceback": [
      "\u001b[0;31m---------------------------------------------------------------------------\u001b[0m",
      "\u001b[0;31mNameError\u001b[0m                                 Traceback (most recent call last)",
      "\u001b[0;32m/var/folders/_k/8h4zfdrd3qgd4kzz6qhbbzyh0000gn/T/ipykernel_14704/1730157290.py\u001b[0m in \u001b[0;36m<module>\u001b[0;34m\u001b[0m\n\u001b[1;32m      3\u001b[0m \u001b[0;31m# Create and print a confusion matrix:\u001b[0m\u001b[0;34m\u001b[0m\u001b[0;34m\u001b[0m\u001b[0m\n\u001b[1;32m      4\u001b[0m \u001b[0;31m# y_test as the first argument and the predictions as the second argument.\u001b[0m\u001b[0;34m\u001b[0m\u001b[0;34m\u001b[0m\u001b[0m\n\u001b[0;32m----> 5\u001b[0;31m \u001b[0mconfusion_matrix\u001b[0m\u001b[0;34m(\u001b[0m\u001b[0my_test\u001b[0m\u001b[0;34m,\u001b[0m \u001b[0mpreds\u001b[0m\u001b[0;34m)\u001b[0m\u001b[0;34m\u001b[0m\u001b[0;34m\u001b[0m\u001b[0m\n\u001b[0m\u001b[1;32m      6\u001b[0m \u001b[0;34m\u001b[0m\u001b[0m\n\u001b[1;32m      7\u001b[0m \u001b[0;31m# Transform confusion matrix into an array:\u001b[0m\u001b[0;34m\u001b[0m\u001b[0;34m\u001b[0m\u001b[0m\n",
      "\u001b[0;31mNameError\u001b[0m: name 'y_test' is not defined"
     ]
    }
   ],
   "source": [
    "# Now we determine the accuracy of the model\n",
    "\n",
    "# Create and print a confusion matrix:\n",
    "# y_test as the first argument and the predictions as the second argument. \n",
    "confusion_matrix(y_test, preds)\n",
    "\n",
    "# Transform confusion matrix into an array:\n",
    "cmatrix = np.array(confusion_matrix(y_test, preds))\n",
    "\n",
    "# Create the DataFrame from cmatrix array \n",
    "pd.DataFrame(cmatrix, index=['female','infant', 'male'],\n",
    "columns=['predicted_female', 'predicted_infant', 'predicted_male'])"
   ]
  },
  {
   "cell_type": "markdown",
   "id": "8bb134af",
   "metadata": {},
   "source": [
    "Now, write the code that will determine the accuracy statistics and create the classification report, which looks like this: "
   ]
  },
  {
   "cell_type": "code",
   "execution_count": 38,
   "id": "869a3706",
   "metadata": {},
   "outputs": [
    {
     "ename": "NameError",
     "evalue": "name 'metrics' is not defined",
     "output_type": "error",
     "traceback": [
      "\u001b[0;31m---------------------------------------------------------------------------\u001b[0m",
      "\u001b[0;31mNameError\u001b[0m                                 Traceback (most recent call last)",
      "\u001b[0;32m/var/folders/_k/8h4zfdrd3qgd4kzz6qhbbzyh0000gn/T/ipykernel_14704/2739893751.py\u001b[0m in \u001b[0;36m<module>\u001b[0;34m\u001b[0m\n\u001b[1;32m      1\u001b[0m \u001b[0;31m# Determine accuracy statistics:\u001b[0m\u001b[0;34m\u001b[0m\u001b[0;34m\u001b[0m\u001b[0m\n\u001b[0;32m----> 2\u001b[0;31m \u001b[0mprint\u001b[0m\u001b[0;34m(\u001b[0m\u001b[0;34m'Accuracy score:'\u001b[0m\u001b[0;34m,\u001b[0m \u001b[0mmetrics\u001b[0m\u001b[0;34m.\u001b[0m\u001b[0maccuracy_score\u001b[0m\u001b[0;34m(\u001b[0m\u001b[0my_test\u001b[0m\u001b[0;34m,\u001b[0m \u001b[0mpreds\u001b[0m\u001b[0;34m)\u001b[0m\u001b[0;34m)\u001b[0m\u001b[0;34m\u001b[0m\u001b[0;34m\u001b[0m\u001b[0m\n\u001b[0m\u001b[1;32m      3\u001b[0m \u001b[0;34m\u001b[0m\u001b[0m\n\u001b[1;32m      4\u001b[0m \u001b[0;31m# Create classification report:\u001b[0m\u001b[0;34m\u001b[0m\u001b[0;34m\u001b[0m\u001b[0m\n\u001b[1;32m      5\u001b[0m \u001b[0mclass_report\u001b[0m\u001b[0;34m=\u001b[0m\u001b[0mclassification_report\u001b[0m\u001b[0;34m(\u001b[0m\u001b[0my_test\u001b[0m\u001b[0;34m,\u001b[0m \u001b[0mpreds\u001b[0m\u001b[0;34m)\u001b[0m\u001b[0;34m\u001b[0m\u001b[0;34m\u001b[0m\u001b[0m\n",
      "\u001b[0;31mNameError\u001b[0m: name 'metrics' is not defined"
     ]
    }
   ],
   "source": [
    "# Determine accuracy statistics:\n",
    "print('Accuracy score:', metrics.accuracy_score(y_test, preds))  \n",
    "\n",
    "# Create classification report:\n",
    "class_report=classification_report(y_test, preds)\n",
    "\n",
    "print(class_report)"
   ]
  },
  {
   "cell_type": "markdown",
   "id": "a61db70d",
   "metadata": {},
   "source": [
    "### The accuracy of the model is 55%, which is not very accurate and therefore not useful as a predictive model. It seems that there is a 48% chance of success to indicate females by employing size as a variable. Therefore, as breeding programmes are very expensive and time-consuming, it might not be the best way to proceed. While inaccuracy seems to be a negative indicator, in fact, we have saved the oyster breeders a lot of wasted time and money. (Imagine they used size to indicate sex, this would be catastrophic as predictions would only be correct about half the time!)"
   ]
  },
  {
   "cell_type": "code",
   "execution_count": 39,
   "id": "84727a62",
   "metadata": {},
   "outputs": [
    {
     "ename": "NameError",
     "evalue": "name 'y_test' is not defined",
     "output_type": "error",
     "traceback": [
      "\u001b[0;31m---------------------------------------------------------------------------\u001b[0m",
      "\u001b[0;31mNameError\u001b[0m                                 Traceback (most recent call last)",
      "\u001b[0;32m/var/folders/_k/8h4zfdrd3qgd4kzz6qhbbzyh0000gn/T/ipykernel_14704/398962385.py\u001b[0m in \u001b[0;36m<module>\u001b[0;34m\u001b[0m\n\u001b[1;32m      5\u001b[0m \u001b[0;34m\u001b[0m\u001b[0m\n\u001b[1;32m      6\u001b[0m \u001b[0;31m# Define confusion matrix.\u001b[0m\u001b[0;34m\u001b[0m\u001b[0;34m\u001b[0m\u001b[0m\n\u001b[0;32m----> 7\u001b[0;31m \u001b[0mcm\u001b[0m \u001b[0;34m=\u001b[0m \u001b[0mconfusion_matrix\u001b[0m\u001b[0;34m(\u001b[0m\u001b[0my_test\u001b[0m\u001b[0;34m,\u001b[0m \u001b[0mpreds\u001b[0m\u001b[0;34m)\u001b[0m\u001b[0;34m\u001b[0m\u001b[0;34m\u001b[0m\u001b[0m\n\u001b[0m\u001b[1;32m      8\u001b[0m \u001b[0;34m\u001b[0m\u001b[0m\n\u001b[1;32m      9\u001b[0m \u001b[0;31m# Create visualisation for the MLR:\u001b[0m\u001b[0;34m\u001b[0m\u001b[0;34m\u001b[0m\u001b[0m\n",
      "\u001b[0;31mNameError\u001b[0m: name 'y_test' is not defined"
     ]
    }
   ],
   "source": [
    "# If we try to visualize the model (that will look like a MATRIX)\n",
    "\n",
    "# Import matplotlib to create a visualisation.\n",
    "import matplotlib.pyplot as plt  \n",
    "\n",
    "# Define confusion matrix.\n",
    "cm = confusion_matrix(y_test, preds)  \n",
    "\n",
    "# Create visualisation for the MLR:\n",
    "fig, ax = plt.subplots(figsize=(10, 10))\n",
    "ax.imshow(cm)\n",
    "ax.grid(False)\n",
    "ax.xaxis.set(ticks=(0, 1, 2), ticklabels=('female', 'infant', 'male'))\n",
    "ax.yaxis.set(ticks=(0, 1, 2), ticklabels=('female', 'infant', 'male'))\n",
    "\n",
    "# ax.set_ylim(1.5, -0.5)\n",
    "for i in range(3):\n",
    "    for j in range(3):\n",
    "        ax.text(j, i, cm[i, j], ha='center', va='center', color='white', size='xx-large')\n",
    "        \n",
    "# Sets the labels.\n",
    "plt.xlabel('Predictions', fontsize=16)\n",
    "plt.ylabel('Actuals', fontsize=16)\n",
    "plt.title('Confusion Matrix', fontsize=15)\n",
    "\n",
    "plt.show()"
   ]
  },
  {
   "cell_type": "code",
   "execution_count": 40,
   "id": "599e3bf9",
   "metadata": {},
   "outputs": [
    {
     "name": "stdout",
     "output_type": "stream",
     "text": [
      "Confusion Matrix - Screenshot 2022-07-22 at 10.29.39.png\n"
     ]
    }
   ],
   "source": [
    "print('Confusion Matrix - Screenshot 2022-07-22 at 10.29.39.png')"
   ]
  },
  {
   "attachments": {
    "Confusion%20Matrix%20-%20Screenshot%202022-07-22%20at%2010.29.39.png": {
     "image/png": "[encoded data removed]"
    }
   },
   "cell_type": "markdown",
   "id": "5176b837",
   "metadata": {},
   "source": [
    "![Confusion%20Matrix%20-%20Screenshot%202022-07-22%20at%2010.29.39.png](attachment:Confusion%20Matrix%20-%20Screenshot%202022-07-22%20at%2010.29.39.png)"
   ]
  },
  {
   "cell_type": "markdown",
   "id": "9e4f1c92",
   "metadata": {},
   "source": [
    "### The oyster research station needed to accurately determine the sex of mature oysters based on size measurements. Using multinomial logistic regression (MLR), we can now see from the output (which is essentially a confusion matrix) that our model correctly classified 314 females as females while it incorrectly classified 160 cases as infants and 460 cases as males. Similarly, 57 cases were incorrectly identified as infants while 676 cases were accurately classified as infants. But there were 110 cases that were incorrectly identified as males. Finally, there were 304 and 244 cases where the model incorrectly classified the males as females and infants respectively. But it also identified 521 accurate cases of male. "
   ]
  },
  {
   "cell_type": "markdown",
   "id": "4dd362eb",
   "metadata": {},
   "source": [
    "### 2.2 Decision tree using Python"
   ]
  },
  {
   "cell_type": "markdown",
   "id": "14648b63",
   "metadata": {},
   "source": [
    "### 2.2.1 Decision trees"
   ]
  },
  {
   "cell_type": "code",
   "execution_count": null,
   "id": "ca05fefd",
   "metadata": {},
   "outputs": [],
   "source": []
  },
  {
   "cell_type": "code",
   "execution_count": null,
   "id": "07198d41",
   "metadata": {},
   "outputs": [],
   "source": []
  },
  {
   "cell_type": "code",
   "execution_count": null,
   "id": "36fd6c83",
   "metadata": {},
   "outputs": [],
   "source": []
  },
  {
   "cell_type": "markdown",
   "id": "19a75485",
   "metadata": {},
   "source": [
    "# "
   ]
  },
  {
   "cell_type": "markdown",
   "id": "72d11285",
   "metadata": {},
   "source": [
    "### 2.3 Clustering using Python"
   ]
  },
  {
   "cell_type": "code",
   "execution_count": null,
   "id": "858e53a9",
   "metadata": {},
   "outputs": [],
   "source": []
  },
  {
   "cell_type": "code",
   "execution_count": null,
   "id": "d7c458df",
   "metadata": {},
   "outputs": [],
   "source": []
  },
  {
   "cell_type": "code",
   "execution_count": null,
   "id": "01029438",
   "metadata": {},
   "outputs": [],
   "source": []
  },
  {
   "cell_type": "code",
   "execution_count": null,
   "id": "52c18b71",
   "metadata": {},
   "outputs": [],
   "source": []
  }
 ],
 "metadata": {
  "kernelspec": {
   "display_name": "Python 3 (ipykernel)",
   "language": "python",
   "name": "python3"
  },
  "language_info": {
   "codemirror_mode": {
    "name": "ipython",
    "version": 3
   },
   "file_extension": ".py",
   "mimetype": "text/x-python",
   "name": "python",
   "nbconvert_exporter": "python",
   "pygments_lexer": "ipython3",
   "version": "3.9.7"
  }
 },
 "nbformat": 4,
 "nbformat_minor": 5
}
